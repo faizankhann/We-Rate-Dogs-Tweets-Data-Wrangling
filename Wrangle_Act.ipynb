{
 "cells": [
  {
   "cell_type": "markdown",
   "metadata": {},
   "source": [
    "# Project Details\n",
    "Your tasks in this project are as follows:\n",
    "\n",
    "Data wrangling, which consists of:\n",
    "- Gathering data (downloadable file in the Resources tab in the left most panel of your classroom and linked in step 1 below).\n",
    "- Assessing data\n",
    "- Cleaning data\n",
    "- Storing, analyzing, and visualizing your wrangled data\n",
    "- Reporting on 1) your data wrangling efforts and 2) your data analyses and visualizations\n"
   ]
  },
  {
   "cell_type": "markdown",
   "metadata": {},
   "source": [
    "# Dataset: WeRateDogs Twitter Data\n",
    "\n",
    "### Description of WE RATE DOGS :\n",
    "The dataset that we will be wrangling (and analyzing and visualizing) is the tweet archive of Twitter user @dog_rates, also known as WeRateDogs. WeRateDogs is a Twitter account that rates people's dogs with a humorous comment about the dog. These ratings almost always have a denominator of 10. The numerators, though? Almost always greater than 10. 11/10, 12/10, 13/10, etc. Why? Because \"they're good dogs Brent.\" WeRateDogs has over 4 million followers and has received international media coverage.\n",
    "\n",
    "WeRateDogs downloaded their Twitter archive and sent it to Udacity to use in this project. This archive contains basic tweet data (tweet ID, timestamp, text, etc.) for all 5000+ of their tweets as they stood on August 1, 2017."
   ]
  },
  {
   "cell_type": "code",
   "execution_count": 1,
   "metadata": {},
   "outputs": [
    {
     "name": "stdout",
     "output_type": "stream",
     "text": [
      "Collecting tweepy\n",
      "  Downloading tweepy-3.8.0-py2.py3-none-any.whl (28 kB)\n",
      "Requirement already satisfied: six>=1.10.0 in /opt/anaconda3/lib/python3.7/site-packages (from tweepy) (1.14.0)\n",
      "Requirement already satisfied: requests>=2.11.1 in /opt/anaconda3/lib/python3.7/site-packages (from tweepy) (2.22.0)\n",
      "Requirement already satisfied: PySocks>=1.5.7 in /opt/anaconda3/lib/python3.7/site-packages (from tweepy) (1.7.1)\n",
      "Collecting requests-oauthlib>=0.7.0\n",
      "  Downloading requests_oauthlib-1.3.0-py2.py3-none-any.whl (23 kB)\n",
      "Requirement already satisfied: idna<2.9,>=2.5 in /opt/anaconda3/lib/python3.7/site-packages (from requests>=2.11.1->tweepy) (2.8)\n",
      "Requirement already satisfied: chardet<3.1.0,>=3.0.2 in /opt/anaconda3/lib/python3.7/site-packages (from requests>=2.11.1->tweepy) (3.0.4)\n",
      "Requirement already satisfied: urllib3!=1.25.0,!=1.25.1,<1.26,>=1.21.1 in /opt/anaconda3/lib/python3.7/site-packages (from requests>=2.11.1->tweepy) (1.25.8)\n",
      "Requirement already satisfied: certifi>=2017.4.17 in /opt/anaconda3/lib/python3.7/site-packages (from requests>=2.11.1->tweepy) (2019.11.28)\n",
      "Collecting oauthlib>=3.0.0\n",
      "  Downloading oauthlib-3.1.0-py2.py3-none-any.whl (147 kB)\n",
      "\u001b[K     |████████████████████████████████| 147 kB 176 kB/s eta 0:00:01\n",
      "\u001b[?25hInstalling collected packages: oauthlib, requests-oauthlib, tweepy\n",
      "Successfully installed oauthlib-3.1.0 requests-oauthlib-1.3.0 tweepy-3.8.0\n",
      "Collecting config\n",
      "  Downloading config-0.5.0.post0-py2.py3-none-any.whl (20 kB)\n",
      "Installing collected packages: config\n",
      "Successfully installed config-0.5.0.post0\n"
     ]
    }
   ],
   "source": [
    "import sys\n",
    "!{sys.executable} -m pip install tweepy\n",
    "!{sys.executable} -m pip install config"
   ]
  },
  {
   "cell_type": "code",
   "execution_count": 1,
   "metadata": {},
   "outputs": [],
   "source": [
    "# Iniallizing : Importing the required Libraries\n",
    "\n",
    "import pandas as pd\n",
    "import numpy as np\n",
    "import matplotlib.pyplot as plt\n",
    "%matplotlib inline\n",
    "import matplotlib.dates as mdates\n",
    "import seaborn as sns\n",
    "\n",
    "\n",
    "from numpy import median\n",
    "import requests\n",
    "import tweepy\n",
    "import os\n",
    "import json\n",
    "import sys\n",
    "\n",
    "\n",
    "#from sklearn.feature_extraction.stop_words import ENGLISH_STOP_WORDS\n",
    "from datetime import datetime\n",
    "from config import Config\n",
    "import re"
   ]
  },
  {
   "cell_type": "markdown",
   "metadata": {},
   "source": [
    "# 1. Gathering Data\n",
    "\n",
    "### WeRateDogs Twitter Archive"
   ]
  },
  {
   "cell_type": "code",
   "execution_count": 2,
   "metadata": {},
   "outputs": [
    {
     "data": {
      "text/html": [
       "<div>\n",
       "<style scoped>\n",
       "    .dataframe tbody tr th:only-of-type {\n",
       "        vertical-align: middle;\n",
       "    }\n",
       "\n",
       "    .dataframe tbody tr th {\n",
       "        vertical-align: top;\n",
       "    }\n",
       "\n",
       "    .dataframe thead th {\n",
       "        text-align: right;\n",
       "    }\n",
       "</style>\n",
       "<table border=\"1\" class=\"dataframe\">\n",
       "  <thead>\n",
       "    <tr style=\"text-align: right;\">\n",
       "      <th></th>\n",
       "      <th>tweet_id</th>\n",
       "      <th>in_reply_to_status_id</th>\n",
       "      <th>in_reply_to_user_id</th>\n",
       "      <th>timestamp</th>\n",
       "      <th>source</th>\n",
       "      <th>text</th>\n",
       "      <th>retweeted_status_id</th>\n",
       "      <th>retweeted_status_user_id</th>\n",
       "      <th>retweeted_status_timestamp</th>\n",
       "      <th>expanded_urls</th>\n",
       "      <th>rating_numerator</th>\n",
       "      <th>rating_denominator</th>\n",
       "      <th>name</th>\n",
       "      <th>doggo</th>\n",
       "      <th>floofer</th>\n",
       "      <th>pupper</th>\n",
       "      <th>puppo</th>\n",
       "    </tr>\n",
       "  </thead>\n",
       "  <tbody>\n",
       "    <tr>\n",
       "      <th>0</th>\n",
       "      <td>892420643555336193</td>\n",
       "      <td>NaN</td>\n",
       "      <td>NaN</td>\n",
       "      <td>2017-08-01 16:23:56 +0000</td>\n",
       "      <td>&lt;a href=\"http://twitter.com/download/iphone\" r...</td>\n",
       "      <td>This is Phineas. He's a mystical boy. Only eve...</td>\n",
       "      <td>NaN</td>\n",
       "      <td>NaN</td>\n",
       "      <td>NaN</td>\n",
       "      <td>https://twitter.com/dog_rates/status/892420643...</td>\n",
       "      <td>13</td>\n",
       "      <td>10</td>\n",
       "      <td>Phineas</td>\n",
       "      <td>None</td>\n",
       "      <td>None</td>\n",
       "      <td>None</td>\n",
       "      <td>None</td>\n",
       "    </tr>\n",
       "    <tr>\n",
       "      <th>1</th>\n",
       "      <td>892177421306343426</td>\n",
       "      <td>NaN</td>\n",
       "      <td>NaN</td>\n",
       "      <td>2017-08-01 00:17:27 +0000</td>\n",
       "      <td>&lt;a href=\"http://twitter.com/download/iphone\" r...</td>\n",
       "      <td>This is Tilly. She's just checking pup on you....</td>\n",
       "      <td>NaN</td>\n",
       "      <td>NaN</td>\n",
       "      <td>NaN</td>\n",
       "      <td>https://twitter.com/dog_rates/status/892177421...</td>\n",
       "      <td>13</td>\n",
       "      <td>10</td>\n",
       "      <td>Tilly</td>\n",
       "      <td>None</td>\n",
       "      <td>None</td>\n",
       "      <td>None</td>\n",
       "      <td>None</td>\n",
       "    </tr>\n",
       "    <tr>\n",
       "      <th>2</th>\n",
       "      <td>891815181378084864</td>\n",
       "      <td>NaN</td>\n",
       "      <td>NaN</td>\n",
       "      <td>2017-07-31 00:18:03 +0000</td>\n",
       "      <td>&lt;a href=\"http://twitter.com/download/iphone\" r...</td>\n",
       "      <td>This is Archie. He is a rare Norwegian Pouncin...</td>\n",
       "      <td>NaN</td>\n",
       "      <td>NaN</td>\n",
       "      <td>NaN</td>\n",
       "      <td>https://twitter.com/dog_rates/status/891815181...</td>\n",
       "      <td>12</td>\n",
       "      <td>10</td>\n",
       "      <td>Archie</td>\n",
       "      <td>None</td>\n",
       "      <td>None</td>\n",
       "      <td>None</td>\n",
       "      <td>None</td>\n",
       "    </tr>\n",
       "    <tr>\n",
       "      <th>3</th>\n",
       "      <td>891689557279858688</td>\n",
       "      <td>NaN</td>\n",
       "      <td>NaN</td>\n",
       "      <td>2017-07-30 15:58:51 +0000</td>\n",
       "      <td>&lt;a href=\"http://twitter.com/download/iphone\" r...</td>\n",
       "      <td>This is Darla. She commenced a snooze mid meal...</td>\n",
       "      <td>NaN</td>\n",
       "      <td>NaN</td>\n",
       "      <td>NaN</td>\n",
       "      <td>https://twitter.com/dog_rates/status/891689557...</td>\n",
       "      <td>13</td>\n",
       "      <td>10</td>\n",
       "      <td>Darla</td>\n",
       "      <td>None</td>\n",
       "      <td>None</td>\n",
       "      <td>None</td>\n",
       "      <td>None</td>\n",
       "    </tr>\n",
       "    <tr>\n",
       "      <th>4</th>\n",
       "      <td>891327558926688256</td>\n",
       "      <td>NaN</td>\n",
       "      <td>NaN</td>\n",
       "      <td>2017-07-29 16:00:24 +0000</td>\n",
       "      <td>&lt;a href=\"http://twitter.com/download/iphone\" r...</td>\n",
       "      <td>This is Franklin. He would like you to stop ca...</td>\n",
       "      <td>NaN</td>\n",
       "      <td>NaN</td>\n",
       "      <td>NaN</td>\n",
       "      <td>https://twitter.com/dog_rates/status/891327558...</td>\n",
       "      <td>12</td>\n",
       "      <td>10</td>\n",
       "      <td>Franklin</td>\n",
       "      <td>None</td>\n",
       "      <td>None</td>\n",
       "      <td>None</td>\n",
       "      <td>None</td>\n",
       "    </tr>\n",
       "  </tbody>\n",
       "</table>\n",
       "</div>"
      ],
      "text/plain": [
       "             tweet_id  in_reply_to_status_id  in_reply_to_user_id  \\\n",
       "0  892420643555336193                    NaN                  NaN   \n",
       "1  892177421306343426                    NaN                  NaN   \n",
       "2  891815181378084864                    NaN                  NaN   \n",
       "3  891689557279858688                    NaN                  NaN   \n",
       "4  891327558926688256                    NaN                  NaN   \n",
       "\n",
       "                   timestamp  \\\n",
       "0  2017-08-01 16:23:56 +0000   \n",
       "1  2017-08-01 00:17:27 +0000   \n",
       "2  2017-07-31 00:18:03 +0000   \n",
       "3  2017-07-30 15:58:51 +0000   \n",
       "4  2017-07-29 16:00:24 +0000   \n",
       "\n",
       "                                              source  \\\n",
       "0  <a href=\"http://twitter.com/download/iphone\" r...   \n",
       "1  <a href=\"http://twitter.com/download/iphone\" r...   \n",
       "2  <a href=\"http://twitter.com/download/iphone\" r...   \n",
       "3  <a href=\"http://twitter.com/download/iphone\" r...   \n",
       "4  <a href=\"http://twitter.com/download/iphone\" r...   \n",
       "\n",
       "                                                text  retweeted_status_id  \\\n",
       "0  This is Phineas. He's a mystical boy. Only eve...                  NaN   \n",
       "1  This is Tilly. She's just checking pup on you....                  NaN   \n",
       "2  This is Archie. He is a rare Norwegian Pouncin...                  NaN   \n",
       "3  This is Darla. She commenced a snooze mid meal...                  NaN   \n",
       "4  This is Franklin. He would like you to stop ca...                  NaN   \n",
       "\n",
       "   retweeted_status_user_id retweeted_status_timestamp  \\\n",
       "0                       NaN                        NaN   \n",
       "1                       NaN                        NaN   \n",
       "2                       NaN                        NaN   \n",
       "3                       NaN                        NaN   \n",
       "4                       NaN                        NaN   \n",
       "\n",
       "                                       expanded_urls  rating_numerator  \\\n",
       "0  https://twitter.com/dog_rates/status/892420643...                13   \n",
       "1  https://twitter.com/dog_rates/status/892177421...                13   \n",
       "2  https://twitter.com/dog_rates/status/891815181...                12   \n",
       "3  https://twitter.com/dog_rates/status/891689557...                13   \n",
       "4  https://twitter.com/dog_rates/status/891327558...                12   \n",
       "\n",
       "   rating_denominator      name doggo floofer pupper puppo  \n",
       "0                  10   Phineas  None    None   None  None  \n",
       "1                  10     Tilly  None    None   None  None  \n",
       "2                  10    Archie  None    None   None  None  \n",
       "3                  10     Darla  None    None   None  None  \n",
       "4                  10  Franklin  None    None   None  None  "
      ]
     },
     "execution_count": 2,
     "metadata": {},
     "output_type": "execute_result"
    }
   ],
   "source": [
    "#Reading data from the WeRateDogs Twitter Archive\n",
    "\n",
    "archive = pd.read_csv('twitter-archive-enhanced-2.csv')\n",
    "archive.head()"
   ]
  },
  {
   "cell_type": "markdown",
   "metadata": {},
   "source": [
    "### Retreiving Images "
   ]
  },
  {
   "cell_type": "code",
   "execution_count": 3,
   "metadata": {},
   "outputs": [],
   "source": [
    "#Retreiving the image predictions from Udacity server\n",
    "retrieve = requests.get('https://d17h27t6h515a5.cloudfront.net/topher/2017/August/599fd2ad_image-predictions/image-predictions.tsv')"
   ]
  },
  {
   "cell_type": "code",
   "execution_count": 4,
   "metadata": {},
   "outputs": [],
   "source": [
    "# Saving the obtained data \n",
    "with open('image-predictions.tsv', 'wb') as file:\n",
    "    file.write(retrieve.content)"
   ]
  },
  {
   "cell_type": "code",
   "execution_count": 6,
   "metadata": {},
   "outputs": [
    {
     "data": {
      "text/html": [
       "<div>\n",
       "<style scoped>\n",
       "    .dataframe tbody tr th:only-of-type {\n",
       "        vertical-align: middle;\n",
       "    }\n",
       "\n",
       "    .dataframe tbody tr th {\n",
       "        vertical-align: top;\n",
       "    }\n",
       "\n",
       "    .dataframe thead th {\n",
       "        text-align: right;\n",
       "    }\n",
       "</style>\n",
       "<table border=\"1\" class=\"dataframe\">\n",
       "  <thead>\n",
       "    <tr style=\"text-align: right;\">\n",
       "      <th></th>\n",
       "      <th>tweet_id</th>\n",
       "      <th>jpg_url</th>\n",
       "      <th>img_num</th>\n",
       "      <th>p1</th>\n",
       "      <th>p1_conf</th>\n",
       "      <th>p1_dog</th>\n",
       "      <th>p2</th>\n",
       "      <th>p2_conf</th>\n",
       "      <th>p2_dog</th>\n",
       "      <th>p3</th>\n",
       "      <th>p3_conf</th>\n",
       "      <th>p3_dog</th>\n",
       "    </tr>\n",
       "  </thead>\n",
       "  <tbody>\n",
       "    <tr>\n",
       "      <th>0</th>\n",
       "      <td>666020888022790149</td>\n",
       "      <td>https://pbs.twimg.com/media/CT4udn0WwAA0aMy.jpg</td>\n",
       "      <td>1</td>\n",
       "      <td>Welsh_springer_spaniel</td>\n",
       "      <td>0.465074</td>\n",
       "      <td>True</td>\n",
       "      <td>collie</td>\n",
       "      <td>0.156665</td>\n",
       "      <td>True</td>\n",
       "      <td>Shetland_sheepdog</td>\n",
       "      <td>0.061428</td>\n",
       "      <td>True</td>\n",
       "    </tr>\n",
       "    <tr>\n",
       "      <th>1</th>\n",
       "      <td>666029285002620928</td>\n",
       "      <td>https://pbs.twimg.com/media/CT42GRgUYAA5iDo.jpg</td>\n",
       "      <td>1</td>\n",
       "      <td>redbone</td>\n",
       "      <td>0.506826</td>\n",
       "      <td>True</td>\n",
       "      <td>miniature_pinscher</td>\n",
       "      <td>0.074192</td>\n",
       "      <td>True</td>\n",
       "      <td>Rhodesian_ridgeback</td>\n",
       "      <td>0.072010</td>\n",
       "      <td>True</td>\n",
       "    </tr>\n",
       "    <tr>\n",
       "      <th>2</th>\n",
       "      <td>666033412701032449</td>\n",
       "      <td>https://pbs.twimg.com/media/CT4521TWwAEvMyu.jpg</td>\n",
       "      <td>1</td>\n",
       "      <td>German_shepherd</td>\n",
       "      <td>0.596461</td>\n",
       "      <td>True</td>\n",
       "      <td>malinois</td>\n",
       "      <td>0.138584</td>\n",
       "      <td>True</td>\n",
       "      <td>bloodhound</td>\n",
       "      <td>0.116197</td>\n",
       "      <td>True</td>\n",
       "    </tr>\n",
       "    <tr>\n",
       "      <th>3</th>\n",
       "      <td>666044226329800704</td>\n",
       "      <td>https://pbs.twimg.com/media/CT5Dr8HUEAA-lEu.jpg</td>\n",
       "      <td>1</td>\n",
       "      <td>Rhodesian_ridgeback</td>\n",
       "      <td>0.408143</td>\n",
       "      <td>True</td>\n",
       "      <td>redbone</td>\n",
       "      <td>0.360687</td>\n",
       "      <td>True</td>\n",
       "      <td>miniature_pinscher</td>\n",
       "      <td>0.222752</td>\n",
       "      <td>True</td>\n",
       "    </tr>\n",
       "    <tr>\n",
       "      <th>4</th>\n",
       "      <td>666049248165822465</td>\n",
       "      <td>https://pbs.twimg.com/media/CT5IQmsXIAAKY4A.jpg</td>\n",
       "      <td>1</td>\n",
       "      <td>miniature_pinscher</td>\n",
       "      <td>0.560311</td>\n",
       "      <td>True</td>\n",
       "      <td>Rottweiler</td>\n",
       "      <td>0.243682</td>\n",
       "      <td>True</td>\n",
       "      <td>Doberman</td>\n",
       "      <td>0.154629</td>\n",
       "      <td>True</td>\n",
       "    </tr>\n",
       "  </tbody>\n",
       "</table>\n",
       "</div>"
      ],
      "text/plain": [
       "             tweet_id                                          jpg_url  \\\n",
       "0  666020888022790149  https://pbs.twimg.com/media/CT4udn0WwAA0aMy.jpg   \n",
       "1  666029285002620928  https://pbs.twimg.com/media/CT42GRgUYAA5iDo.jpg   \n",
       "2  666033412701032449  https://pbs.twimg.com/media/CT4521TWwAEvMyu.jpg   \n",
       "3  666044226329800704  https://pbs.twimg.com/media/CT5Dr8HUEAA-lEu.jpg   \n",
       "4  666049248165822465  https://pbs.twimg.com/media/CT5IQmsXIAAKY4A.jpg   \n",
       "\n",
       "   img_num                      p1   p1_conf  p1_dog                  p2  \\\n",
       "0        1  Welsh_springer_spaniel  0.465074    True              collie   \n",
       "1        1                 redbone  0.506826    True  miniature_pinscher   \n",
       "2        1         German_shepherd  0.596461    True            malinois   \n",
       "3        1     Rhodesian_ridgeback  0.408143    True             redbone   \n",
       "4        1      miniature_pinscher  0.560311    True          Rottweiler   \n",
       "\n",
       "    p2_conf  p2_dog                   p3   p3_conf  p3_dog  \n",
       "0  0.156665    True    Shetland_sheepdog  0.061428    True  \n",
       "1  0.074192    True  Rhodesian_ridgeback  0.072010    True  \n",
       "2  0.138584    True           bloodhound  0.116197    True  \n",
       "3  0.360687    True   miniature_pinscher  0.222752    True  \n",
       "4  0.243682    True             Doberman  0.154629    True  "
      ]
     },
     "execution_count": 6,
     "metadata": {},
     "output_type": "execute_result"
    }
   ],
   "source": [
    "# create dataframe\n",
    "df_img = pd.read_csv('image-predictions.tsv', sep='\\t')\n",
    "df_img.head()"
   ]
  },
  {
   "cell_type": "markdown",
   "metadata": {},
   "source": [
    "### Authorizing Twitter"
   ]
  },
  {
   "cell_type": "code",
   "execution_count": 7,
   "metadata": {},
   "outputs": [],
   "source": [
    "#consumer_key = '*************************'\n",
    "#consumer_secret = '*************************'\n",
    "#access_token = '*************************'\n",
    "#access_secret = '*************************'\n",
    "\n",
    "#auth = tweepy.OAuthHandler(consumer_key, consumer_secret)\n",
    "#auth.set_access_token(access_token, access_secret)\n",
    "\n",
    "#api = tweepy.API(auth)"
   ]
  },
  {
   "cell_type": "markdown",
   "metadata": {},
   "source": [
    "### Extracting more tweets from WeRateDogs"
   ]
  },
  {
   "cell_type": "code",
   "execution_count": 8,
   "metadata": {},
   "outputs": [],
   "source": [
    "# complete information using twitter API\n",
    "#with open('tweet_json.txt','w') as outfile:\n",
    "    #call infos\n",
    "    #for i in archive['tweet_id']:\n",
    "        #handling exception\n",
    "        #try:\n",
    "            #tweet = api.get_status(i,tweet_mode='extended')\n",
    "            #json.dump(tweet._json, outfile)\n",
    "            #outfile.write(\"\\n\")\n",
    "        #except:\n",
    "            #e = os.sys.exc_info()[0]\n",
    "            \n",
    "# inspiration from try/except : https://wiki.python.org/moin/HandlingExceptions"
   ]
  },
  {
   "cell_type": "code",
   "execution_count": 9,
   "metadata": {},
   "outputs": [
    {
     "data": {
      "text/html": [
       "<div>\n",
       "<style scoped>\n",
       "    .dataframe tbody tr th:only-of-type {\n",
       "        vertical-align: middle;\n",
       "    }\n",
       "\n",
       "    .dataframe tbody tr th {\n",
       "        vertical-align: top;\n",
       "    }\n",
       "\n",
       "    .dataframe thead th {\n",
       "        text-align: right;\n",
       "    }\n",
       "</style>\n",
       "<table border=\"1\" class=\"dataframe\">\n",
       "  <thead>\n",
       "    <tr style=\"text-align: right;\">\n",
       "      <th></th>\n",
       "      <th>id</th>\n",
       "      <th>favorite_count</th>\n",
       "      <th>retweet_count</th>\n",
       "    </tr>\n",
       "  </thead>\n",
       "  <tbody>\n",
       "    <tr>\n",
       "      <th>0</th>\n",
       "      <td>892420643555336193</td>\n",
       "      <td>36371</td>\n",
       "      <td>7739</td>\n",
       "    </tr>\n",
       "    <tr>\n",
       "      <th>1</th>\n",
       "      <td>892177421306343426</td>\n",
       "      <td>31328</td>\n",
       "      <td>5729</td>\n",
       "    </tr>\n",
       "    <tr>\n",
       "      <th>2</th>\n",
       "      <td>891815181378084864</td>\n",
       "      <td>23608</td>\n",
       "      <td>3790</td>\n",
       "    </tr>\n",
       "    <tr>\n",
       "      <th>3</th>\n",
       "      <td>891689557279858688</td>\n",
       "      <td>39675</td>\n",
       "      <td>7904</td>\n",
       "    </tr>\n",
       "    <tr>\n",
       "      <th>4</th>\n",
       "      <td>891327558926688256</td>\n",
       "      <td>37881</td>\n",
       "      <td>8526</td>\n",
       "    </tr>\n",
       "  </tbody>\n",
       "</table>\n",
       "</div>"
      ],
      "text/plain": [
       "                   id  favorite_count  retweet_count\n",
       "0  892420643555336193           36371           7739\n",
       "1  892177421306343426           31328           5729\n",
       "2  891815181378084864           23608           3790\n",
       "3  891689557279858688           39675           7904\n",
       "4  891327558926688256           37881           8526"
      ]
     },
     "execution_count": 9,
     "metadata": {},
     "output_type": "execute_result"
    }
   ],
   "source": [
    "# Defining the elements to be retained \n",
    "retain_elements = ['id', 'favorite_count', 'retweet_count']\n",
    "\n",
    "# Defining the required Dictionary\n",
    "data = []\n",
    "with open('tweet_json.txt', 'r') as r: \n",
    "    json_tweet = r.readline()\n",
    "    while json_tweet:\n",
    "        dictionnary = json.loads(json_tweet)\n",
    "        data_row = dict((i, dictionnary[i]) for i in retain_elements)\n",
    "        data.append(data_row)\n",
    "        json_tweet = r.readline()\n",
    "        \n",
    "            \n",
    "# create DataFrame    \n",
    "df_data = pd.DataFrame.from_dict(data)\n",
    "\n",
    "# confirm\n",
    "df_data.head()"
   ]
  },
  {
   "cell_type": "markdown",
   "metadata": {},
   "source": [
    "# 2. Assessing"
   ]
  },
  {
   "cell_type": "markdown",
   "metadata": {},
   "source": [
    "### Assessing the Archive"
   ]
  },
  {
   "cell_type": "code",
   "execution_count": 10,
   "metadata": {},
   "outputs": [
    {
     "data": {
      "text/html": [
       "<div>\n",
       "<style scoped>\n",
       "    .dataframe tbody tr th:only-of-type {\n",
       "        vertical-align: middle;\n",
       "    }\n",
       "\n",
       "    .dataframe tbody tr th {\n",
       "        vertical-align: top;\n",
       "    }\n",
       "\n",
       "    .dataframe thead th {\n",
       "        text-align: right;\n",
       "    }\n",
       "</style>\n",
       "<table border=\"1\" class=\"dataframe\">\n",
       "  <thead>\n",
       "    <tr style=\"text-align: right;\">\n",
       "      <th></th>\n",
       "      <th>tweet_id</th>\n",
       "      <th>in_reply_to_status_id</th>\n",
       "      <th>in_reply_to_user_id</th>\n",
       "      <th>timestamp</th>\n",
       "      <th>source</th>\n",
       "      <th>text</th>\n",
       "      <th>retweeted_status_id</th>\n",
       "      <th>retweeted_status_user_id</th>\n",
       "      <th>retweeted_status_timestamp</th>\n",
       "      <th>expanded_urls</th>\n",
       "      <th>rating_numerator</th>\n",
       "      <th>rating_denominator</th>\n",
       "      <th>name</th>\n",
       "      <th>doggo</th>\n",
       "      <th>floofer</th>\n",
       "      <th>pupper</th>\n",
       "      <th>puppo</th>\n",
       "    </tr>\n",
       "  </thead>\n",
       "  <tbody>\n",
       "    <tr>\n",
       "      <th>0</th>\n",
       "      <td>892420643555336193</td>\n",
       "      <td>NaN</td>\n",
       "      <td>NaN</td>\n",
       "      <td>2017-08-01 16:23:56 +0000</td>\n",
       "      <td>&lt;a href=\"http://twitter.com/download/iphone\" r...</td>\n",
       "      <td>This is Phineas. He's a mystical boy. Only eve...</td>\n",
       "      <td>NaN</td>\n",
       "      <td>NaN</td>\n",
       "      <td>NaN</td>\n",
       "      <td>https://twitter.com/dog_rates/status/892420643...</td>\n",
       "      <td>13</td>\n",
       "      <td>10</td>\n",
       "      <td>Phineas</td>\n",
       "      <td>None</td>\n",
       "      <td>None</td>\n",
       "      <td>None</td>\n",
       "      <td>None</td>\n",
       "    </tr>\n",
       "    <tr>\n",
       "      <th>1</th>\n",
       "      <td>892177421306343426</td>\n",
       "      <td>NaN</td>\n",
       "      <td>NaN</td>\n",
       "      <td>2017-08-01 00:17:27 +0000</td>\n",
       "      <td>&lt;a href=\"http://twitter.com/download/iphone\" r...</td>\n",
       "      <td>This is Tilly. She's just checking pup on you....</td>\n",
       "      <td>NaN</td>\n",
       "      <td>NaN</td>\n",
       "      <td>NaN</td>\n",
       "      <td>https://twitter.com/dog_rates/status/892177421...</td>\n",
       "      <td>13</td>\n",
       "      <td>10</td>\n",
       "      <td>Tilly</td>\n",
       "      <td>None</td>\n",
       "      <td>None</td>\n",
       "      <td>None</td>\n",
       "      <td>None</td>\n",
       "    </tr>\n",
       "    <tr>\n",
       "      <th>2</th>\n",
       "      <td>891815181378084864</td>\n",
       "      <td>NaN</td>\n",
       "      <td>NaN</td>\n",
       "      <td>2017-07-31 00:18:03 +0000</td>\n",
       "      <td>&lt;a href=\"http://twitter.com/download/iphone\" r...</td>\n",
       "      <td>This is Archie. He is a rare Norwegian Pouncin...</td>\n",
       "      <td>NaN</td>\n",
       "      <td>NaN</td>\n",
       "      <td>NaN</td>\n",
       "      <td>https://twitter.com/dog_rates/status/891815181...</td>\n",
       "      <td>12</td>\n",
       "      <td>10</td>\n",
       "      <td>Archie</td>\n",
       "      <td>None</td>\n",
       "      <td>None</td>\n",
       "      <td>None</td>\n",
       "      <td>None</td>\n",
       "    </tr>\n",
       "    <tr>\n",
       "      <th>3</th>\n",
       "      <td>891689557279858688</td>\n",
       "      <td>NaN</td>\n",
       "      <td>NaN</td>\n",
       "      <td>2017-07-30 15:58:51 +0000</td>\n",
       "      <td>&lt;a href=\"http://twitter.com/download/iphone\" r...</td>\n",
       "      <td>This is Darla. She commenced a snooze mid meal...</td>\n",
       "      <td>NaN</td>\n",
       "      <td>NaN</td>\n",
       "      <td>NaN</td>\n",
       "      <td>https://twitter.com/dog_rates/status/891689557...</td>\n",
       "      <td>13</td>\n",
       "      <td>10</td>\n",
       "      <td>Darla</td>\n",
       "      <td>None</td>\n",
       "      <td>None</td>\n",
       "      <td>None</td>\n",
       "      <td>None</td>\n",
       "    </tr>\n",
       "    <tr>\n",
       "      <th>4</th>\n",
       "      <td>891327558926688256</td>\n",
       "      <td>NaN</td>\n",
       "      <td>NaN</td>\n",
       "      <td>2017-07-29 16:00:24 +0000</td>\n",
       "      <td>&lt;a href=\"http://twitter.com/download/iphone\" r...</td>\n",
       "      <td>This is Franklin. He would like you to stop ca...</td>\n",
       "      <td>NaN</td>\n",
       "      <td>NaN</td>\n",
       "      <td>NaN</td>\n",
       "      <td>https://twitter.com/dog_rates/status/891327558...</td>\n",
       "      <td>12</td>\n",
       "      <td>10</td>\n",
       "      <td>Franklin</td>\n",
       "      <td>None</td>\n",
       "      <td>None</td>\n",
       "      <td>None</td>\n",
       "      <td>None</td>\n",
       "    </tr>\n",
       "  </tbody>\n",
       "</table>\n",
       "</div>"
      ],
      "text/plain": [
       "             tweet_id  in_reply_to_status_id  in_reply_to_user_id  \\\n",
       "0  892420643555336193                    NaN                  NaN   \n",
       "1  892177421306343426                    NaN                  NaN   \n",
       "2  891815181378084864                    NaN                  NaN   \n",
       "3  891689557279858688                    NaN                  NaN   \n",
       "4  891327558926688256                    NaN                  NaN   \n",
       "\n",
       "                   timestamp  \\\n",
       "0  2017-08-01 16:23:56 +0000   \n",
       "1  2017-08-01 00:17:27 +0000   \n",
       "2  2017-07-31 00:18:03 +0000   \n",
       "3  2017-07-30 15:58:51 +0000   \n",
       "4  2017-07-29 16:00:24 +0000   \n",
       "\n",
       "                                              source  \\\n",
       "0  <a href=\"http://twitter.com/download/iphone\" r...   \n",
       "1  <a href=\"http://twitter.com/download/iphone\" r...   \n",
       "2  <a href=\"http://twitter.com/download/iphone\" r...   \n",
       "3  <a href=\"http://twitter.com/download/iphone\" r...   \n",
       "4  <a href=\"http://twitter.com/download/iphone\" r...   \n",
       "\n",
       "                                                text  retweeted_status_id  \\\n",
       "0  This is Phineas. He's a mystical boy. Only eve...                  NaN   \n",
       "1  This is Tilly. She's just checking pup on you....                  NaN   \n",
       "2  This is Archie. He is a rare Norwegian Pouncin...                  NaN   \n",
       "3  This is Darla. She commenced a snooze mid meal...                  NaN   \n",
       "4  This is Franklin. He would like you to stop ca...                  NaN   \n",
       "\n",
       "   retweeted_status_user_id retweeted_status_timestamp  \\\n",
       "0                       NaN                        NaN   \n",
       "1                       NaN                        NaN   \n",
       "2                       NaN                        NaN   \n",
       "3                       NaN                        NaN   \n",
       "4                       NaN                        NaN   \n",
       "\n",
       "                                       expanded_urls  rating_numerator  \\\n",
       "0  https://twitter.com/dog_rates/status/892420643...                13   \n",
       "1  https://twitter.com/dog_rates/status/892177421...                13   \n",
       "2  https://twitter.com/dog_rates/status/891815181...                12   \n",
       "3  https://twitter.com/dog_rates/status/891689557...                13   \n",
       "4  https://twitter.com/dog_rates/status/891327558...                12   \n",
       "\n",
       "   rating_denominator      name doggo floofer pupper puppo  \n",
       "0                  10   Phineas  None    None   None  None  \n",
       "1                  10     Tilly  None    None   None  None  \n",
       "2                  10    Archie  None    None   None  None  \n",
       "3                  10     Darla  None    None   None  None  \n",
       "4                  10  Franklin  None    None   None  None  "
      ]
     },
     "execution_count": 10,
     "metadata": {},
     "output_type": "execute_result"
    }
   ],
   "source": [
    "archive.head()"
   ]
  },
  {
   "cell_type": "code",
   "execution_count": 11,
   "metadata": {},
   "outputs": [
    {
     "name": "stdout",
     "output_type": "stream",
     "text": [
      "<class 'pandas.core.frame.DataFrame'>\n",
      "RangeIndex: 2356 entries, 0 to 2355\n",
      "Data columns (total 17 columns):\n",
      " #   Column                      Non-Null Count  Dtype  \n",
      "---  ------                      --------------  -----  \n",
      " 0   tweet_id                    2356 non-null   int64  \n",
      " 1   in_reply_to_status_id       78 non-null     float64\n",
      " 2   in_reply_to_user_id         78 non-null     float64\n",
      " 3   timestamp                   2356 non-null   object \n",
      " 4   source                      2356 non-null   object \n",
      " 5   text                        2356 non-null   object \n",
      " 6   retweeted_status_id         181 non-null    float64\n",
      " 7   retweeted_status_user_id    181 non-null    float64\n",
      " 8   retweeted_status_timestamp  181 non-null    object \n",
      " 9   expanded_urls               2297 non-null   object \n",
      " 10  rating_numerator            2356 non-null   int64  \n",
      " 11  rating_denominator          2356 non-null   int64  \n",
      " 12  name                        2356 non-null   object \n",
      " 13  doggo                       2356 non-null   object \n",
      " 14  floofer                     2356 non-null   object \n",
      " 15  pupper                      2356 non-null   object \n",
      " 16  puppo                       2356 non-null   object \n",
      "dtypes: float64(4), int64(3), object(10)\n",
      "memory usage: 313.0+ KB\n"
     ]
    }
   ],
   "source": [
    "archive.info()"
   ]
  },
  {
   "cell_type": "markdown",
   "metadata": {},
   "source": [
    "### Observations from Archive Dataset:\n",
    "- The rows need to be suppressed if the value is a non-null to conserve only original tweets for the coulumn data corresponding to : in_reply_to_status_id, in_reply_to_user_id, retweeted_status_id, retweeted_status_user_id, retweeted_statud_timestamp\n",
    "- The source contains html residues\n",
    "- The variables doggo, floofer, pupper and puppo present in the data represent one single variable and it should be a part of a single column\n",
    "- The \"timestamp\" needs to be converted into datetime.\n",
    "- We can observe that there are some 'None' objects present in \"doggo\", \"floofer\", \"pupper\" and \"puppo\" which have to be convert into 'NaN'.\n",
    "- Some entries are missing expanded URL's.\n",
    "- The \"tweet_id\" is an 'INT' should be converted to 'string' datatype."
   ]
  },
  {
   "cell_type": "code",
   "execution_count": 21,
   "metadata": {},
   "outputs": [
    {
     "data": {
      "text/plain": [
       "0"
      ]
     },
     "execution_count": 21,
     "metadata": {},
     "output_type": "execute_result"
    }
   ],
   "source": [
    "# Checking for Duplicate values\n",
    "\n",
    "archive['tweet_id'].duplicated().sum()"
   ]
  },
  {
   "cell_type": "code",
   "execution_count": 39,
   "metadata": {},
   "outputs": [],
   "source": [
    "# Defining Stop Words function\n",
    "# By taking a data frame column and a column name and print the number of stop words in the column\n",
    "\n",
    "def stop_words(data_frame_column,name):\n",
    "    count=0\n",
    "    for word in data_frame_column:\n",
    "        if word in ENGLISH_STOP_WORDS:\n",
    "            count+=1\n",
    "    print('',name,':',count,'')"
   ]
  },
  {
   "cell_type": "code",
   "execution_count": 44,
   "metadata": {},
   "outputs": [
    {
     "name": "stdout",
     "output_type": "stream",
     "text": [
      "Number of stop-words in each column\n",
      " tweet_id : 0 \n",
      " timestamp : 0 \n",
      " source : 0 \n",
      " expanded_urls : 0 \n",
      " rating_numerator : 0 \n",
      " rating_denominator : 0 \n",
      " name : 87 \n",
      " doggo : 0 \n",
      " floofer : 0 \n",
      " pupper : 0 \n",
      " puppo : 0 \n"
     ]
    }
   ],
   "source": [
    "# Here we  are checking the count of stop-words for each column in the data frame\n",
    "print (\"Number of stop-words in each column\")\n",
    "stop_words(archive['tweet_id'],'tweet_id')\n",
    "stop_words(archive['timestamp'],'timestamp')\n",
    "stop_words(archive['source'],'source')\n",
    "stop_words(archive['expanded_urls'],'expanded_urls')\n",
    "stop_words(archive['rating_numerator'],'rating_numerator')\n",
    "stop_words(archive['rating_denominator'],'rating_denominator')\n",
    "stop_words(archive['name'],'name')\n",
    "stop_words(archive['doggo'],'doggo')\n",
    "stop_words(archive['floofer'],'floofer')\n",
    "stop_words(archive['pupper'],'pupper')\n",
    "stop_words(archive['puppo'],'puppo')"
   ]
  },
  {
   "cell_type": "markdown",
   "metadata": {},
   "source": [
    "### Observation\n",
    "- The name column has multiple stop words"
   ]
  },
  {
   "cell_type": "code",
   "execution_count": 45,
   "metadata": {},
   "outputs": [],
   "source": [
    "# Defining a function to detect the 'None' string\n",
    "# By taking a data frame column and a column name and print the number of 'None' string in the column\n",
    "\n",
    "def detect_none(data_frame_column,name):\n",
    "    count=0\n",
    "    for word in data_frame_column:\n",
    "        if word == 'None':\n",
    "            count+=1\n",
    "    print('', name, ':',count,'')"
   ]
  },
  {
   "cell_type": "code",
   "execution_count": 49,
   "metadata": {},
   "outputs": [
    {
     "name": "stdout",
     "output_type": "stream",
     "text": [
      "Number of 'None' string in a column \n",
      "\n",
      " tweet_id : 0 \n",
      " timestamp : 0 \n",
      " source : 0 \n",
      " expanded_urls : 0 \n",
      " rating_numerator : 0 \n",
      " rating_denominator : 0 \n",
      " name : 745 \n",
      " doggo : 2259 \n",
      " floofer : 2346 \n",
      " pupper : 2099 \n",
      " puppo : 2326 \n"
     ]
    }
   ],
   "source": [
    "# Calling the detect_none function defined above\n",
    "print (\"Number of 'None' string in a column \\n\")\n",
    "detect_none(archive['tweet_id'],'tweet_id')\n",
    "detect_none(archive['timestamp'],'timestamp')\n",
    "detect_none(archive['source'],'source')\n",
    "detect_none(archive['expanded_urls'],'expanded_urls')\n",
    "detect_none(archive['rating_numerator'],'rating_numerator')\n",
    "detect_none(archive['rating_denominator'],'rating_denominator')\n",
    "detect_none(archive['name'],'name')\n",
    "detect_none(archive['doggo'],'doggo')\n",
    "detect_none(archive['floofer'],'floofer')\n",
    "detect_none(archive['pupper'],'pupper')\n",
    "detect_none(archive['puppo'],'puppo')"
   ]
  },
  {
   "cell_type": "markdown",
   "metadata": {},
   "source": [
    "### Observations : \n",
    "\n",
    "- As evident from above, the \"name\" column has a total of 745 'None' strings present.\n",
    "- along with the columns \"doggo\", \"floofer\", \"pupper\" and \"puppo\"."
   ]
  },
  {
   "cell_type": "code",
   "execution_count": 50,
   "metadata": {},
   "outputs": [
    {
     "name": "stdout",
     "output_type": "stream",
     "text": [
      "Sample of double URLs :  https://gofundme.com/ydvmve-surgery-for-jax,https://twitter.com/dog_rates/status/890971913173991426/photo/1\n",
      "Number of double links:  639\n"
     ]
    }
   ],
   "source": [
    "# While observing the Data Frame, we notice a Double-Link in \"expanded_urls\" column data content\n",
    "\n",
    "# Here is a sample of double urls\n",
    "print('Sample of double URLs : ',archive.expanded_urls[6])\n",
    "\n",
    "# Adding all double urls for retrieving the total count\n",
    "double_urls = archive.expanded_urls.str.contains(r',').sum()\n",
    "\n",
    "print('Number of double links: ',double_urls)"
   ]
  },
  {
   "cell_type": "markdown",
   "metadata": {},
   "source": [
    "### Observation : \n",
    "- We can clearly see from above that a total of 639 double links are present within \"expanded_urls\" column data\n"
   ]
  },
  {
   "cell_type": "code",
   "execution_count": 27,
   "metadata": {},
   "outputs": [
    {
     "name": "stdout",
     "output_type": "stream",
     "text": [
      "The count of entries not equal to 10 is 23.\n"
     ]
    }
   ],
   "source": [
    "# Finding the count of Denominators not equal to the normal value of '10' \n",
    "count_not_dec = 0\n",
    "for i in archive['rating_denominator']:\n",
    "    if i != 10 :\n",
    "        count_not_dec += 1\n",
    "        \n",
    "print('The count of entries not equal to 10 is {}.'.format(count_not_dec))"
   ]
  },
  {
   "cell_type": "markdown",
   "metadata": {},
   "source": [
    "### Observations : \n",
    "\n",
    "- We can see that a total of 23 ratings do not have the denominator value as 10, which means these values are not rated out of 10."
   ]
  },
  {
   "cell_type": "code",
   "execution_count": 51,
   "metadata": {},
   "outputs": [
    {
     "name": "stdout",
     "output_type": "stream",
     "text": [
      "The count of Numerator values less than 10 is 440.\n"
     ]
    }
   ],
   "source": [
    "# Calculating the number of values for which the Numerator is under 10 \n",
    "\n",
    "count_num_lessthan_10 = 0\n",
    "for num in archive['rating_numerator']:\n",
    "    if num <= 9:\n",
    "        count_num_lessthan_10 += 1\n",
    "        \n",
    "print('The count of Numerator values less than 10 is {}.'.format(count_num_lessthan_10))"
   ]
  },
  {
   "cell_type": "markdown",
   "metadata": {},
   "source": [
    "### Observations : \n",
    "\n",
    "- Thus, we can see that a total of 440 entries have a Numerator value less than 10."
   ]
  },
  {
   "cell_type": "code",
   "execution_count": 32,
   "metadata": {},
   "outputs": [
    {
     "data": {
      "text/plain": [
       "0    1976\n",
       "1     366\n",
       "2      14\n",
       "Name: gender_number, dtype: int64"
      ]
     },
     "execution_count": 32,
     "metadata": {},
     "output_type": "execute_result"
    },
    {
     "data": {
      "image/png": "[encoded data removed]",
      "text/plain": [
       "<Figure size 1080x504 with 1 Axes>"
      ]
     },
     "metadata": {
      "needs_background": "light"
     },
     "output_type": "display_data"
    }
   ],
   "source": [
    "# Another assessment we come across is that there is a contradiction in dog categories.\n",
    "# Here, we have multiple categories for dogs, namely \"doggo\",\"floofer\",\"pupper\",\"puppo\".\n",
    "# Ideally, we should have dog in a single category, and not in multiple ones as mentioned above.\n",
    "\n",
    "# So, in order to maintain a single category, we start by transforming the category in 0 or 1\n",
    "# Hence, we temporarily create a new category with sum if superior to 1 is false \n",
    "\n",
    "# Creating a copy \n",
    "archive_2 = archive.copy()\n",
    "\n",
    "# Defining a procedure to convert the column into a bi-variate 0 and 1 \n",
    "archive_2['doggo'] = archive_2['doggo'].apply(lambda x: 0 if x=='None' else 1)\n",
    "archive_2['floofer'] = archive_2['floofer'].apply(lambda x: 0 if x=='None' else 1)\n",
    "archive_2['pupper'] = archive_2['pupper'].apply(lambda x: 0 if x=='None' else 1)\n",
    "archive_2['puppo'] = archive_2['puppo'].apply(lambda x: 0 if x=='None' else 1)\n",
    "\n",
    "# Defining a new column \"gender_number\"\n",
    "archive_2['gender_number']=archive_2.iloc[:,[13,14,15,16]].sum(axis=1)\n",
    "\n",
    "# Measuring the number \n",
    "plt.figure(figsize=(15,7))\n",
    "sns.countplot(archive_2.gender_number)\n",
    "\n",
    "# Displaying the total count against each value\n",
    "archive_2['gender_number'].value_counts()"
   ]
  },
  {
   "cell_type": "markdown",
   "metadata": {},
   "source": [
    "### Observations :\n",
    "\n",
    "- Hence, we can visualize that there are 14 rows, belonging in two categories."
   ]
  },
  {
   "cell_type": "markdown",
   "metadata": {},
   "source": [
    "### Assessing Images"
   ]
  },
  {
   "cell_type": "code",
   "execution_count": 59,
   "metadata": {},
   "outputs": [
    {
     "data": {
      "text/html": [
       "<div>\n",
       "<style scoped>\n",
       "    .dataframe tbody tr th:only-of-type {\n",
       "        vertical-align: middle;\n",
       "    }\n",
       "\n",
       "    .dataframe tbody tr th {\n",
       "        vertical-align: top;\n",
       "    }\n",
       "\n",
       "    .dataframe thead th {\n",
       "        text-align: right;\n",
       "    }\n",
       "</style>\n",
       "<table border=\"1\" class=\"dataframe\">\n",
       "  <thead>\n",
       "    <tr style=\"text-align: right;\">\n",
       "      <th></th>\n",
       "      <th>tweet_id</th>\n",
       "      <th>jpg_url</th>\n",
       "      <th>img_num</th>\n",
       "      <th>p1</th>\n",
       "      <th>p1_conf</th>\n",
       "      <th>p1_dog</th>\n",
       "      <th>p2</th>\n",
       "      <th>p2_conf</th>\n",
       "      <th>p2_dog</th>\n",
       "      <th>p3</th>\n",
       "      <th>p3_conf</th>\n",
       "      <th>p3_dog</th>\n",
       "    </tr>\n",
       "  </thead>\n",
       "  <tbody>\n",
       "    <tr>\n",
       "      <th>0</th>\n",
       "      <td>666020888022790149</td>\n",
       "      <td>https://pbs.twimg.com/media/CT4udn0WwAA0aMy.jpg</td>\n",
       "      <td>1</td>\n",
       "      <td>Welsh_springer_spaniel</td>\n",
       "      <td>0.465074</td>\n",
       "      <td>True</td>\n",
       "      <td>collie</td>\n",
       "      <td>0.156665</td>\n",
       "      <td>True</td>\n",
       "      <td>Shetland_sheepdog</td>\n",
       "      <td>0.061428</td>\n",
       "      <td>True</td>\n",
       "    </tr>\n",
       "    <tr>\n",
       "      <th>1</th>\n",
       "      <td>666029285002620928</td>\n",
       "      <td>https://pbs.twimg.com/media/CT42GRgUYAA5iDo.jpg</td>\n",
       "      <td>1</td>\n",
       "      <td>redbone</td>\n",
       "      <td>0.506826</td>\n",
       "      <td>True</td>\n",
       "      <td>miniature_pinscher</td>\n",
       "      <td>0.074192</td>\n",
       "      <td>True</td>\n",
       "      <td>Rhodesian_ridgeback</td>\n",
       "      <td>0.072010</td>\n",
       "      <td>True</td>\n",
       "    </tr>\n",
       "    <tr>\n",
       "      <th>2</th>\n",
       "      <td>666033412701032449</td>\n",
       "      <td>https://pbs.twimg.com/media/CT4521TWwAEvMyu.jpg</td>\n",
       "      <td>1</td>\n",
       "      <td>German_shepherd</td>\n",
       "      <td>0.596461</td>\n",
       "      <td>True</td>\n",
       "      <td>malinois</td>\n",
       "      <td>0.138584</td>\n",
       "      <td>True</td>\n",
       "      <td>bloodhound</td>\n",
       "      <td>0.116197</td>\n",
       "      <td>True</td>\n",
       "    </tr>\n",
       "    <tr>\n",
       "      <th>3</th>\n",
       "      <td>666044226329800704</td>\n",
       "      <td>https://pbs.twimg.com/media/CT5Dr8HUEAA-lEu.jpg</td>\n",
       "      <td>1</td>\n",
       "      <td>Rhodesian_ridgeback</td>\n",
       "      <td>0.408143</td>\n",
       "      <td>True</td>\n",
       "      <td>redbone</td>\n",
       "      <td>0.360687</td>\n",
       "      <td>True</td>\n",
       "      <td>miniature_pinscher</td>\n",
       "      <td>0.222752</td>\n",
       "      <td>True</td>\n",
       "    </tr>\n",
       "    <tr>\n",
       "      <th>4</th>\n",
       "      <td>666049248165822465</td>\n",
       "      <td>https://pbs.twimg.com/media/CT5IQmsXIAAKY4A.jpg</td>\n",
       "      <td>1</td>\n",
       "      <td>miniature_pinscher</td>\n",
       "      <td>0.560311</td>\n",
       "      <td>True</td>\n",
       "      <td>Rottweiler</td>\n",
       "      <td>0.243682</td>\n",
       "      <td>True</td>\n",
       "      <td>Doberman</td>\n",
       "      <td>0.154629</td>\n",
       "      <td>True</td>\n",
       "    </tr>\n",
       "  </tbody>\n",
       "</table>\n",
       "</div>"
      ],
      "text/plain": [
       "             tweet_id                                          jpg_url  \\\n",
       "0  666020888022790149  https://pbs.twimg.com/media/CT4udn0WwAA0aMy.jpg   \n",
       "1  666029285002620928  https://pbs.twimg.com/media/CT42GRgUYAA5iDo.jpg   \n",
       "2  666033412701032449  https://pbs.twimg.com/media/CT4521TWwAEvMyu.jpg   \n",
       "3  666044226329800704  https://pbs.twimg.com/media/CT5Dr8HUEAA-lEu.jpg   \n",
       "4  666049248165822465  https://pbs.twimg.com/media/CT5IQmsXIAAKY4A.jpg   \n",
       "\n",
       "   img_num                      p1   p1_conf  p1_dog                  p2  \\\n",
       "0        1  Welsh_springer_spaniel  0.465074    True              collie   \n",
       "1        1                 redbone  0.506826    True  miniature_pinscher   \n",
       "2        1         German_shepherd  0.596461    True            malinois   \n",
       "3        1     Rhodesian_ridgeback  0.408143    True             redbone   \n",
       "4        1      miniature_pinscher  0.560311    True          Rottweiler   \n",
       "\n",
       "    p2_conf  p2_dog                   p3   p3_conf  p3_dog  \n",
       "0  0.156665    True    Shetland_sheepdog  0.061428    True  \n",
       "1  0.074192    True  Rhodesian_ridgeback  0.072010    True  \n",
       "2  0.138584    True           bloodhound  0.116197    True  \n",
       "3  0.360687    True   miniature_pinscher  0.222752    True  \n",
       "4  0.243682    True             Doberman  0.154629    True  "
      ]
     },
     "execution_count": 59,
     "metadata": {},
     "output_type": "execute_result"
    }
   ],
   "source": [
    "df_img.head()"
   ]
  },
  {
   "cell_type": "markdown",
   "metadata": {},
   "source": [
    "### Observation:\n",
    "- p1, p2 and p3 columns possess inconsistent writing."
   ]
  },
  {
   "cell_type": "code",
   "execution_count": 60,
   "metadata": {},
   "outputs": [
    {
     "name": "stdout",
     "output_type": "stream",
     "text": [
      "<class 'pandas.core.frame.DataFrame'>\n",
      "RangeIndex: 2075 entries, 0 to 2074\n",
      "Data columns (total 12 columns):\n",
      " #   Column    Non-Null Count  Dtype  \n",
      "---  ------    --------------  -----  \n",
      " 0   tweet_id  2075 non-null   int64  \n",
      " 1   jpg_url   2075 non-null   object \n",
      " 2   img_num   2075 non-null   int64  \n",
      " 3   p1        2075 non-null   object \n",
      " 4   p1_conf   2075 non-null   float64\n",
      " 5   p1_dog    2075 non-null   bool   \n",
      " 6   p2        2075 non-null   object \n",
      " 7   p2_conf   2075 non-null   float64\n",
      " 8   p2_dog    2075 non-null   bool   \n",
      " 9   p3        2075 non-null   object \n",
      " 10  p3_conf   2075 non-null   float64\n",
      " 11  p3_dog    2075 non-null   bool   \n",
      "dtypes: bool(3), float64(3), int64(2), object(4)\n",
      "memory usage: 152.1+ KB\n"
     ]
    }
   ],
   "source": [
    "df_img.info()"
   ]
  },
  {
   "cell_type": "code",
   "execution_count": 63,
   "metadata": {},
   "outputs": [
    {
     "data": {
      "text/plain": [
       "0"
      ]
     },
     "execution_count": 63,
     "metadata": {},
     "output_type": "execute_result"
    }
   ],
   "source": [
    "# Checking duplicated values\n",
    "df_img.duplicated().sum()"
   ]
  },
  {
   "cell_type": "code",
   "execution_count": 65,
   "metadata": {},
   "outputs": [
    {
     "data": {
      "text/plain": [
       "1    1780\n",
       "2     198\n",
       "3      66\n",
       "4      31\n",
       "Name: img_num, dtype: int64"
      ]
     },
     "execution_count": 65,
     "metadata": {},
     "output_type": "execute_result"
    }
   ],
   "source": [
    "# Counting the number of images\n",
    "df_img['img_num'].value_counts()"
   ]
  },
  {
   "cell_type": "code",
   "execution_count": 68,
   "metadata": {},
   "outputs": [
    {
     "name": "stdout",
     "output_type": "stream",
     "text": [
      "Number of stop-words in each column\n",
      " tweet_id : 0 \n",
      " jpg_url : 0 \n",
      " img_num : 0 \n",
      " p1 : 0 \n",
      " p1_conf : 0 \n",
      " p2 : 0 \n",
      " p2_conf : 0 \n",
      " p3 : 0 \n",
      " p3_conf : 0 \n",
      " p1_dog : 0 \n",
      " p2_dog : 0 \n",
      " p3_dog : 0 \n"
     ]
    }
   ],
   "source": [
    "# Finding the count for Stop-Words present in each columns\n",
    "\n",
    "print (\"Number of stop-words in each column\")\n",
    "stop_words(df_img_init['tweet_id'],'tweet_id')\n",
    "stop_words(df_img_init['jpg_url'],'jpg_url')\n",
    "stop_words(df_img_init['img_num'],'img_num')\n",
    "stop_words(df_img_init['p1'],'p1')\n",
    "stop_words(df_img_init['p1_conf'],'p1_conf')\n",
    "stop_words(df_img_init['p2'],'p2')\n",
    "stop_words(df_img_init['p2_conf'],'p2_conf')\n",
    "stop_words(df_img_init['p3'],'p3')\n",
    "stop_words(df_img_init['p3_conf'],'p3_conf')\n",
    "stop_words(df_img_init['p1_dog'],'p1_dog')\n",
    "stop_words(df_img_init['p2_dog'],'p2_dog')\n",
    "stop_words(df_img_init['p3_dog'],'p3_dog')"
   ]
  },
  {
   "cell_type": "code",
   "execution_count": 69,
   "metadata": {},
   "outputs": [
    {
     "name": "stdout",
     "output_type": "stream",
     "text": [
      "Number of 'None' values in each column\n",
      " tweet_id : 0 \n",
      " timestamp : 0 \n",
      " source : 0 \n",
      " expanded_urls : 0 \n",
      " rating_numerator : 0 \n",
      " rating_denominator : 0 \n",
      " name : 745 \n",
      " doggo : 2259 \n",
      " floofer : 2346 \n",
      " pupper : 2099 \n",
      " puppo : 2326 \n"
     ]
    }
   ],
   "source": [
    "# Calculating the count of 'None' string\n",
    "print (\"Number of 'None' values in each column\")\n",
    "detect_none(archive['tweet_id'],'tweet_id')\n",
    "detect_none(archive['timestamp'],'timestamp')\n",
    "detect_none(archive['source'],'source')\n",
    "detect_none(archive['expanded_urls'],'expanded_urls')\n",
    "detect_none(archive['rating_numerator'],'rating_numerator')\n",
    "detect_none(archive['rating_denominator'],'rating_denominator')\n",
    "detect_none(archive['name'],'name')\n",
    "detect_none(archive['doggo'],'doggo')\n",
    "detect_none(archive['floofer'],'floofer')\n",
    "detect_none(archive['pupper'],'pupper')\n",
    "detect_none(archive['puppo'],'puppo')"
   ]
  },
  {
   "cell_type": "code",
   "execution_count": 71,
   "metadata": {},
   "outputs": [
    {
     "data": {
      "text/plain": [
       "0    1243\n",
       "1     347\n",
       "3     324\n",
       "2     161\n",
       "Name: no_dog, dtype: int64"
      ]
     },
     "execution_count": 71,
     "metadata": {},
     "output_type": "execute_result"
    },
    {
     "data": {
      "image/png": "[encoded data removed]",
      "text/plain": [
       "<Figure size 1080x504 with 1 Axes>"
      ]
     },
     "metadata": {
      "needs_background": "light"
     },
     "output_type": "display_data"
    }
   ],
   "source": [
    "# Defining a check to verify if it's a dog\n",
    "\n",
    "# We start off by transforming category in 0 or 1\n",
    "# We make the use of a temporarily created new category \n",
    "\n",
    "# Generating a copy \n",
    "df_img_2 = df_img_init.copy()\n",
    "\n",
    "# Defining a procedure to convert the column into a bi-variate 0 and 1\n",
    "df_img_2['p1_dog'] = df_img_2['p1_dog'].apply(lambda x: 0 if x==True else 1)\n",
    "df_img_2['p2_dog'] = df_img_2['p2_dog'].apply(lambda x: 0 if x==True else 1)\n",
    "df_img_2['p3_dog'] = df_img_2['p3_dog'].apply(lambda x: 0 if x==True else 1)\n",
    "\n",
    "# Creating a new column \n",
    "df_img_2['no_dog'] = df_img_2.iloc[:,[5,8,11]].sum(axis=1)\n",
    "\n",
    "# Measuring the number \n",
    "plt.figure(figsize=(15,7))\n",
    "sns.countplot(df_img_2.no_dog)\n",
    "\n",
    "# Getting the Count \n",
    "\n",
    "df_img_2['no_dog'].value_counts()"
   ]
  },
  {
   "cell_type": "markdown",
   "metadata": {},
   "source": [
    "### Observation:\n",
    "\n",
    "- As seen above, for a total of 324 rows in the Data, no dogs are recognized.\n",
    "\n"
   ]
  },
  {
   "cell_type": "markdown",
   "metadata": {},
   "source": [
    "\n",
    "### Assessing the data we have scrapped\n",
    "\n"
   ]
  },
  {
   "cell_type": "code",
   "execution_count": 75,
   "metadata": {},
   "outputs": [
    {
     "data": {
      "text/html": [
       "<div>\n",
       "<style scoped>\n",
       "    .dataframe tbody tr th:only-of-type {\n",
       "        vertical-align: middle;\n",
       "    }\n",
       "\n",
       "    .dataframe tbody tr th {\n",
       "        vertical-align: top;\n",
       "    }\n",
       "\n",
       "    .dataframe thead th {\n",
       "        text-align: right;\n",
       "    }\n",
       "</style>\n",
       "<table border=\"1\" class=\"dataframe\">\n",
       "  <thead>\n",
       "    <tr style=\"text-align: right;\">\n",
       "      <th></th>\n",
       "      <th>id</th>\n",
       "      <th>favorite_count</th>\n",
       "      <th>retweet_count</th>\n",
       "    </tr>\n",
       "  </thead>\n",
       "  <tbody>\n",
       "    <tr>\n",
       "      <th>0</th>\n",
       "      <td>892420643555336193</td>\n",
       "      <td>36385</td>\n",
       "      <td>7741</td>\n",
       "    </tr>\n",
       "    <tr>\n",
       "      <th>1</th>\n",
       "      <td>892177421306343426</td>\n",
       "      <td>31336</td>\n",
       "      <td>5730</td>\n",
       "    </tr>\n",
       "    <tr>\n",
       "      <th>2</th>\n",
       "      <td>891815181378084864</td>\n",
       "      <td>23612</td>\n",
       "      <td>3794</td>\n",
       "    </tr>\n",
       "    <tr>\n",
       "      <th>3</th>\n",
       "      <td>891689557279858688</td>\n",
       "      <td>39682</td>\n",
       "      <td>7907</td>\n",
       "    </tr>\n",
       "    <tr>\n",
       "      <th>4</th>\n",
       "      <td>891327558926688256</td>\n",
       "      <td>37883</td>\n",
       "      <td>8528</td>\n",
       "    </tr>\n",
       "  </tbody>\n",
       "</table>\n",
       "</div>"
      ],
      "text/plain": [
       "                   id  favorite_count  retweet_count\n",
       "0  892420643555336193           36385           7741\n",
       "1  892177421306343426           31336           5730\n",
       "2  891815181378084864           23612           3794\n",
       "3  891689557279858688           39682           7907\n",
       "4  891327558926688256           37883           8528"
      ]
     },
     "execution_count": 75,
     "metadata": {},
     "output_type": "execute_result"
    }
   ],
   "source": [
    "df_data.head()"
   ]
  },
  {
   "cell_type": "code",
   "execution_count": 78,
   "metadata": {},
   "outputs": [
    {
     "name": "stdout",
     "output_type": "stream",
     "text": [
      "<class 'pandas.core.frame.DataFrame'>\n",
      "RangeIndex: 877 entries, 0 to 876\n",
      "Data columns (total 3 columns):\n",
      " #   Column          Non-Null Count  Dtype\n",
      "---  ------          --------------  -----\n",
      " 0   id              877 non-null    int64\n",
      " 1   favorite_count  877 non-null    int64\n",
      " 2   retweet_count   877 non-null    int64\n",
      "dtypes: int64(3)\n",
      "memory usage: 20.7 KB\n"
     ]
    }
   ],
   "source": [
    "df_data.info()"
   ]
  },
  {
   "cell_type": "code",
   "execution_count": 79,
   "metadata": {},
   "outputs": [
    {
     "data": {
      "text/plain": [
       "0"
      ]
     },
     "execution_count": 79,
     "metadata": {},
     "output_type": "execute_result"
    }
   ],
   "source": [
    "# Checking duplicate values\n",
    "\n",
    "df_data.duplicated().sum()"
   ]
  },
  {
   "cell_type": "markdown",
   "metadata": {},
   "source": [
    "### Observation\n",
    "- the 'id' has to be a string"
   ]
  },
  {
   "cell_type": "markdown",
   "metadata": {},
   "source": [
    "## Overall Observation \n",
    "- The len of all three dataset should be same\n",
    "- We have to merge all of them into one dataset"
   ]
  },
  {
   "cell_type": "markdown",
   "metadata": {},
   "source": [
    "# Cleaning Data"
   ]
  },
  {
   "cell_type": "code",
   "execution_count": 81,
   "metadata": {},
   "outputs": [],
   "source": [
    "# We will make copies of dataset for the cleaning purposes.\n",
    "\n",
    "clean_archive = archive.copy()\n",
    "clean_img = df_img.copy()\n",
    "clean_data = df_data.copy()"
   ]
  },
  {
   "cell_type": "markdown",
   "metadata": {},
   "source": [
    "### Cleaning Archive Dataset"
   ]
  },
  {
   "cell_type": "code",
   "execution_count": 83,
   "metadata": {},
   "outputs": [],
   "source": [
    "# Cleaning the URLs: \n",
    "\n",
    "for i in range(len(clean_archive)):\n",
    "    twt_id=clean_archive['tweet_id'][i]\n",
    "    url = 'https://twitter.com/dog_rates/status/{}'.format(twt_id)\n",
    "    clean_archive['expanded_urls'].replace(clean_archive['expanded_urls'][i],url,inplace=True)\n"
   ]
  },
  {
   "cell_type": "code",
   "execution_count": 84,
   "metadata": {},
   "outputs": [
    {
     "name": "stdout",
     "output_type": "stream",
     "text": [
      "<class 'pandas.core.frame.DataFrame'>\n",
      "RangeIndex: 2356 entries, 0 to 2355\n",
      "Data columns (total 17 columns):\n",
      " #   Column                      Non-Null Count  Dtype  \n",
      "---  ------                      --------------  -----  \n",
      " 0   tweet_id                    2356 non-null   int64  \n",
      " 1   in_reply_to_status_id       78 non-null     float64\n",
      " 2   in_reply_to_user_id         78 non-null     float64\n",
      " 3   timestamp                   2356 non-null   object \n",
      " 4   source                      2356 non-null   object \n",
      " 5   text                        2356 non-null   object \n",
      " 6   retweeted_status_id         181 non-null    float64\n",
      " 7   retweeted_status_user_id    181 non-null    float64\n",
      " 8   retweeted_status_timestamp  181 non-null    object \n",
      " 9   expanded_urls               2356 non-null   object \n",
      " 10  rating_numerator            2356 non-null   int64  \n",
      " 11  rating_denominator          2356 non-null   int64  \n",
      " 12  name                        2356 non-null   object \n",
      " 13  doggo                       2356 non-null   object \n",
      " 14  floofer                     2356 non-null   object \n",
      " 15  pupper                      2356 non-null   object \n",
      " 16  puppo                       2356 non-null   object \n",
      "dtypes: float64(4), int64(3), object(10)\n",
      "memory usage: 313.0+ KB\n"
     ]
    }
   ],
   "source": [
    "# Verifying the changes made in the previous cell\n",
    "\n",
    "clean_archive.info()"
   ]
  },
  {
   "cell_type": "code",
   "execution_count": 85,
   "metadata": {},
   "outputs": [],
   "source": [
    "# Suppressing the rows with re-tweet and unnecessary columns\n",
    "\n",
    "# Dropping the unnecessary rows\n",
    "\n",
    "clean_archive = clean_archive[clean_archive['in_reply_to_status_id'].isnull()]\n",
    "clean_archive = clean_archive[clean_archive['retweeted_status_id'].isnull()]"
   ]
  },
  {
   "cell_type": "code",
   "execution_count": 86,
   "metadata": {},
   "outputs": [],
   "source": [
    "# Dropping the unnecessary columns\n",
    "\n",
    "clean_archive.drop(['in_reply_to_status_id','in_reply_to_user_id','retweeted_status_id',\n",
    "           'retweeted_status_user_id','retweeted_status_timestamp'], axis=1, inplace = True)"
   ]
  },
  {
   "cell_type": "code",
   "execution_count": 87,
   "metadata": {},
   "outputs": [
    {
     "name": "stdout",
     "output_type": "stream",
     "text": [
      "259\n"
     ]
    },
    {
     "data": {
      "text/html": [
       "<div>\n",
       "<style scoped>\n",
       "    .dataframe tbody tr th:only-of-type {\n",
       "        vertical-align: middle;\n",
       "    }\n",
       "\n",
       "    .dataframe tbody tr th {\n",
       "        vertical-align: top;\n",
       "    }\n",
       "\n",
       "    .dataframe thead th {\n",
       "        text-align: right;\n",
       "    }\n",
       "</style>\n",
       "<table border=\"1\" class=\"dataframe\">\n",
       "  <thead>\n",
       "    <tr style=\"text-align: right;\">\n",
       "      <th></th>\n",
       "      <th>tweet_id</th>\n",
       "      <th>timestamp</th>\n",
       "      <th>source</th>\n",
       "      <th>text</th>\n",
       "      <th>expanded_urls</th>\n",
       "      <th>rating_numerator</th>\n",
       "      <th>rating_denominator</th>\n",
       "      <th>name</th>\n",
       "      <th>doggo</th>\n",
       "      <th>floofer</th>\n",
       "      <th>pupper</th>\n",
       "      <th>puppo</th>\n",
       "    </tr>\n",
       "  </thead>\n",
       "  <tbody>\n",
       "  </tbody>\n",
       "</table>\n",
       "</div>"
      ],
      "text/plain": [
       "Empty DataFrame\n",
       "Columns: [tweet_id, timestamp, source, text, expanded_urls, rating_numerator, rating_denominator, name, doggo, floofer, pupper, puppo]\n",
       "Index: []"
      ]
     },
     "execution_count": 87,
     "metadata": {},
     "output_type": "execute_result"
    }
   ],
   "source": [
    "# Verifying the changes made above \n",
    "\n",
    "print(len(archive)-len(clean_archive))\n",
    "clean_archive.head(0)"
   ]
  },
  {
   "cell_type": "code",
   "execution_count": 88,
   "metadata": {},
   "outputs": [],
   "source": [
    "# Cleaning the  HTML residues present in the Source\n",
    "\n",
    "# Defing the procedure\n",
    "\n",
    "clean_archive['source'] = clean_archive['source'].map(lambda x: x.lstrip('<a href=').rstrip('</a>'))\n"
   ]
  },
  {
   "cell_type": "code",
   "execution_count": 89,
   "metadata": {},
   "outputs": [
    {
     "data": {
      "text/plain": [
       "0    \"http://twitter.com/download/iphone\" rel=\"nofo...\n",
       "1    \"http://twitter.com/download/iphone\" rel=\"nofo...\n",
       "2    \"http://twitter.com/download/iphone\" rel=\"nofo...\n",
       "3    \"http://twitter.com/download/iphone\" rel=\"nofo...\n",
       "4    \"http://twitter.com/download/iphone\" rel=\"nofo...\n",
       "Name: source, dtype: object"
      ]
     },
     "execution_count": 89,
     "metadata": {},
     "output_type": "execute_result"
    }
   ],
   "source": [
    "\n",
    "# Verifying whether the changes have been impacted successfully\n",
    "\n",
    "clean_archive['source'].head()"
   ]
  },
  {
   "cell_type": "code",
   "execution_count": 90,
   "metadata": {},
   "outputs": [],
   "source": [
    "# Changing the Data-type of ''timestamp'' to 'datetime'\n",
    "\n",
    "clean_archive['timestamp'] = pd.to_datetime(clean_archive['timestamp'])"
   ]
  },
  {
   "cell_type": "code",
   "execution_count": 91,
   "metadata": {},
   "outputs": [
    {
     "name": "stdout",
     "output_type": "stream",
     "text": [
      "<class 'pandas.core.frame.DataFrame'>\n",
      "Int64Index: 2097 entries, 0 to 2355\n",
      "Data columns (total 12 columns):\n",
      " #   Column              Non-Null Count  Dtype              \n",
      "---  ------              --------------  -----              \n",
      " 0   tweet_id            2097 non-null   int64              \n",
      " 1   timestamp           2097 non-null   datetime64[ns, UTC]\n",
      " 2   source              2097 non-null   object             \n",
      " 3   text                2097 non-null   object             \n",
      " 4   expanded_urls       2097 non-null   object             \n",
      " 5   rating_numerator    2097 non-null   int64              \n",
      " 6   rating_denominator  2097 non-null   int64              \n",
      " 7   name                2097 non-null   object             \n",
      " 8   doggo               2097 non-null   object             \n",
      " 9   floofer             2097 non-null   object             \n",
      " 10  pupper              2097 non-null   object             \n",
      " 11  puppo               2097 non-null   object             \n",
      "dtypes: datetime64[ns, UTC](1), int64(3), object(8)\n",
      "memory usage: 213.0+ KB\n"
     ]
    }
   ],
   "source": [
    "# Verifying the changes \n",
    "\n",
    "clean_archive.info()"
   ]
  },
  {
   "cell_type": "code",
   "execution_count": 92,
   "metadata": {},
   "outputs": [],
   "source": [
    "# Changing the Data-type of \"tweet_id\" from 'INT' to 'string' \n",
    "\n",
    "clean_archive['tweet_id'] = clean_archive['tweet_id'].astype(str)"
   ]
  },
  {
   "cell_type": "code",
   "execution_count": 93,
   "metadata": {},
   "outputs": [
    {
     "name": "stdout",
     "output_type": "stream",
     "text": [
      "<class 'pandas.core.frame.DataFrame'>\n",
      "Int64Index: 2097 entries, 0 to 2355\n",
      "Data columns (total 12 columns):\n",
      " #   Column              Non-Null Count  Dtype              \n",
      "---  ------              --------------  -----              \n",
      " 0   tweet_id            2097 non-null   object             \n",
      " 1   timestamp           2097 non-null   datetime64[ns, UTC]\n",
      " 2   source              2097 non-null   object             \n",
      " 3   text                2097 non-null   object             \n",
      " 4   expanded_urls       2097 non-null   object             \n",
      " 5   rating_numerator    2097 non-null   int64              \n",
      " 6   rating_denominator  2097 non-null   int64              \n",
      " 7   name                2097 non-null   object             \n",
      " 8   doggo               2097 non-null   object             \n",
      " 9   floofer             2097 non-null   object             \n",
      " 10  pupper              2097 non-null   object             \n",
      " 11  puppo               2097 non-null   object             \n",
      "dtypes: datetime64[ns, UTC](1), int64(2), object(9)\n",
      "memory usage: 213.0+ KB\n"
     ]
    }
   ],
   "source": [
    "\n",
    "# Verifying the changes made\n",
    "\n",
    "clean_archive.info()"
   ]
  },
  {
   "cell_type": "code",
   "execution_count": 95,
   "metadata": {},
   "outputs": [],
   "source": [
    "## Suppressing the 'Stop-Words' in \"name\" column\n",
    "\n",
    "# From manual observation, it is apparent that the Stop Words replace Name \n",
    "# Hence we suppress stop words as :  \n",
    "for shabd in clean_archive['name']:\n",
    "    if shabd in ENGLISH_STOP_WORDS:\n",
    "        clean_archive['name']=clean_archive['name'].where(clean_archive['name']!=shabd, np.NaN)"
   ]
  },
  {
   "cell_type": "code",
   "execution_count": 96,
   "metadata": {},
   "outputs": [
    {
     "name": "stdout",
     "output_type": "stream",
     "text": [
      " name : 0 \n"
     ]
    }
   ],
   "source": [
    "# Verifying the changes made\n",
    "\n",
    "stop_words(clean_archive['name'],'name')"
   ]
  },
  {
   "cell_type": "code",
   "execution_count": 97,
   "metadata": {},
   "outputs": [
    {
     "data": {
      "text/plain": [
       "0        phineas\n",
       "1          tilly\n",
       "2         archie\n",
       "3          darla\n",
       "4       franklin\n",
       "          ...   \n",
       "2351        none\n",
       "2352         NaN\n",
       "2353         NaN\n",
       "2354         NaN\n",
       "2355        none\n",
       "Name: name, Length: 2097, dtype: object"
      ]
     },
     "execution_count": 97,
     "metadata": {},
     "output_type": "execute_result"
    }
   ],
   "source": [
    "# Converting the \"name\" column into lower case\n",
    "\n",
    "clean_archive['name'] = clean_archive['name'].str.lower()\n",
    "\n",
    "# Verifying the changes\n",
    "clean_archive['name']"
   ]
  },
  {
   "cell_type": "code",
   "execution_count": 98,
   "metadata": {},
   "outputs": [],
   "source": [
    "# Replacing 'None' string with 'NaN'\n",
    "\n",
    "clean_archive['name'] = clean_archive['name'].where(clean_archive['name'] != shabd, np.NaN) \n",
    "clean_archive['doggo'] = clean_archive['doggo'].where(clean_archive['doggo'] != shabd, np.NaN) \n",
    "clean_archive['floofer'] = clean_archive['floofer'].where(clean_archive['floofer'] != shabd, np.NaN) \n",
    "clean_archive['pupper'] = clean_archive['pupper'].where(clean_archive['pupper'] != shabd, np.NaN) \n",
    "clean_archive['puppo'] = clean_archive['puppo'].where(clean_archive['puppo'] != shabd, np.NaN) "
   ]
  },
  {
   "cell_type": "code",
   "execution_count": 99,
   "metadata": {},
   "outputs": [
    {
     "name": "stdout",
     "output_type": "stream",
     "text": [
      " name : 0 \n",
      " doggo : 0 \n",
      " floofer : 0 \n",
      " pupper : 0 \n",
      " puppo : 0 \n"
     ]
    }
   ],
   "source": [
    "# Verifying the changes made\n",
    "\n",
    "detect_none(clean_archive['name'],'name')\n",
    "detect_none(clean_archive['doggo'],'doggo')\n",
    "detect_none(clean_archive['floofer'],'floofer')\n",
    "detect_none(clean_archive['pupper'],'pupper')\n",
    "detect_none(clean_archive['puppo'],'puppo')"
   ]
  },
  {
   "cell_type": "code",
   "execution_count": 100,
   "metadata": {},
   "outputs": [
    {
     "name": "stdout",
     "output_type": "stream",
     "text": [
      "Ex 1:  After so many requests, this is Bretagne. She was the last surviving 9/11 search dog, and our second ever 14/10. RIP https://t.co/XAVDNDaVgQ\n",
      "Ex 2:  Happy 4/20 from the squad! 13/10 for all https://t.co/eV1diwds8a\n",
      "Ex 3:  This is an Albanian 3 1/2 legged  Episcopalian. Loves well-polished hardwood flooring. Penis on the collar. 9/10 https://t.co/d9NcXFKwLv\n"
     ]
    }
   ],
   "source": [
    "# Monitoring the Numerator and Denominator Values\n",
    "\n",
    "print('Ex 1: ',clean_archive['text'][1068])\n",
    "print('Ex 2: ',clean_archive['text'][1165])\n",
    "print('Ex 3: ',clean_archive['text'][2335])"
   ]
  },
  {
   "cell_type": "markdown",
   "metadata": {},
   "source": [
    "Here, we observe two different cases wherein the ratings are not following the standards. \n",
    "\n",
    "In Case 1, it is done so delibarately and is not an extraction problem, so we would be keeping it.\n",
    "Whereas in Case 2, while performing the extraction, it chooses only the first fraction in the message, hence we should correct it."
   ]
  },
  {
   "cell_type": "code",
   "execution_count": 101,
   "metadata": {},
   "outputs": [
    {
     "name": "stdout",
     "output_type": "stream",
     "text": [
      "After so many requests, this is Bretagne. She was the last surviving 9/11 search dog, and our second ever 14/10. RIP https://t.co/XAVDNDaVgQ\n",
      "Int64Index([1068], dtype='int64')\n",
      "Happy 4/20 from the squad! 13/10 for all https://t.co/eV1diwds8a\n",
      "Int64Index([1165], dtype='int64')\n",
      "This is Bluebert. He just saw that both #FinalFur match ups are split 50/50. Amazed af. 11/10 https://t.co/Kky1DPG4iq\n",
      "Int64Index([1202], dtype='int64')\n",
      "This is Darrel. He just robbed a 7/11 and is in a high speed police chase. Was just spotted by the helicopter 10/10 https://t.co/7EsP8LmSp5\n",
      "Int64Index([1662], dtype='int64')\n",
      "This is an Albanian 3 1/2 legged  Episcopalian. Loves well-polished hardwood flooring. Penis on the collar. 9/10 https://t.co/d9NcXFKwLv\n",
      "Int64Index([2335], dtype='int64')\n"
     ]
    }
   ],
   "source": [
    "# Defining a new dataframe filtered with the items to analyze \n",
    "to_analyze = clean_archive.loc[clean_archive['rating_denominator']!=10]\n",
    "\n",
    "# Looking up the suspected data \n",
    "for i in to_analyze['text']:\n",
    "    if '/10' in i:\n",
    "        print(i)\n",
    "        print(to_analyze[to_analyze['text']==i].index)"
   ]
  },
  {
   "cell_type": "code",
   "execution_count": 102,
   "metadata": {},
   "outputs": [],
   "source": [
    "# Manual replacement of data \n",
    "clean_archive.loc[clean_archive.index == 1068, 'rating_numerator'] = 14\n",
    "clean_archive.loc[clean_archive.index == 1165, 'rating_numerator'] = 13\n",
    "clean_archive.loc[clean_archive.index == 1202, 'rating_numerator'] = 11\n",
    "clean_archive.loc[clean_archive.index == 1662, 'rating_numerator'] = 10\n",
    "clean_archive.loc[clean_archive.index == 2335, 'rating_numerator'] = 9\n",
    "\n",
    "clean_archive.loc[clean_archive.index == 1068, 'rating_denominator'] = 10\n",
    "clean_archive.loc[clean_archive.index == 1165, 'rating_denominator'] = 10\n",
    "clean_archive.loc[clean_archive.index == 1202, 'rating_denominator'] = 10\n",
    "clean_archive.loc[clean_archive.index == 1662, 'rating_denominator'] = 10\n",
    "clean_archive.loc[clean_archive.index == 2335, 'rating_denominator'] = 10"
   ]
  },
  {
   "cell_type": "code",
   "execution_count": 104,
   "metadata": {},
   "outputs": [
    {
     "name": "stdout",
     "output_type": "stream",
     "text": [
      "Index is :  45 \n",
      " Text is :  This is Bella. She hopes her smile made you smile. If not, she is also offering you her favorite monkey. 13.5/10 https://t.co/qjrljjt948 \n",
      "The Numerator is :  5 \n",
      "\n",
      "Index is :  340 \n",
      " Text is :  RT @dog_rates: This is Logan, the Chow who lived. He solemnly swears he's up to lots of good. H*ckin magical af 9.75/10 https://t.co/yBO5wu… \n",
      "The Numerator is :  75 \n",
      "\n",
      "Index is :  695 \n",
      " Text is :  This is Logan, the Chow who lived. He solemnly swears he's up to lots of good. H*ckin magical af 9.75/10 https://t.co/yBO5wuqaPS \n",
      "The Numerator is :  75 \n",
      "\n",
      "Index is :  763 \n",
      " Text is :  This is Sophie. She's a Jubilant Bush Pupper. Super h*ckin rare. Appears at random just to smile at the locals. 11.27/10 would smile back https://t.co/QFaUiIHxHq \n",
      "The Numerator is :  27 \n",
      "\n",
      "Index is :  1689 \n",
      " Text is :  I've been told there's a slight possibility he's checking his mirror. We'll bump to 9.5/10. Still a menace \n",
      "The Numerator is :  5 \n",
      "\n",
      "Index is :  1712 \n",
      " Text is :  Here we have uncovered an entire battalion of holiday puppers. Average of 11.26/10 https://t.co/eNm2S6p9BD \n",
      "The Numerator is :  26 \n",
      "\n"
     ]
    }
   ],
   "source": [
    "# Fixing the Numerators containing Decimal Values\n",
    "\n",
    "# Locating the entries with Numerator containing Decimal Values\n",
    "\n",
    "for row in test['text']:\n",
    "    detect = '(\\d+\\.\\d+)\\/(\\d+)'\n",
    "    srch = re.search(detect,row)\n",
    "    if srch != None:\n",
    "        Ind=test.loc[test['text']==row].index[0]\n",
    "        Txt = archive.text[Ind]\n",
    "        Num = archive.rating_numerator[Ind]\n",
    "        print('Index is : ',Ind,'\\n',\n",
    "              'Text is : ',Txt,'\\n'\n",
    "              'The Numerator is : ',Num,'\\n',\n",
    "             )\n",
    "        "
   ]
  },
  {
   "cell_type": "code",
   "execution_count": 105,
   "metadata": {},
   "outputs": [],
   "source": [
    "# Manual replacement of Data \n",
    "\n",
    "clean_archive.loc[clean_archive.index == 45, 'rating_numerator'] = 13.5\n",
    "clean_archive.loc[clean_archive.index == 340, 'rating_numerator'] = 9.75\n",
    "clean_archive.loc[clean_archive.index == 695, 'rating_numerator'] = 9.75\n",
    "clean_archive.loc[clean_archive.index == 763, 'rating_numerator'] = 11.27\n",
    "clean_archive.loc[clean_archive.index == 1689, 'rating_numerator'] = 9.5\n",
    "clean_archive.loc[clean_archive.index == 1712, 'rating_numerator'] = 11.26"
   ]
  },
  {
   "cell_type": "code",
   "execution_count": 106,
   "metadata": {},
   "outputs": [
    {
     "data": {
      "text/plain": [
       "tweet_id                                             883482846933004288\n",
       "timestamp                                     2017-07-08 00:28:19+00:00\n",
       "source                \"http://twitter.com/download/iphone\" rel=\"nofo...\n",
       "text                  This is Bella. She hopes her smile made you sm...\n",
       "expanded_urls         https://twitter.com/dog_rates/status/883482846...\n",
       "rating_numerator                                                   13.5\n",
       "rating_denominator                                                   10\n",
       "name                                                              bella\n",
       "doggo                                                               NaN\n",
       "floofer                                                             NaN\n",
       "pupper                                                              NaN\n",
       "puppo                                                               NaN\n",
       "Name: 45, dtype: object"
      ]
     },
     "execution_count": 106,
     "metadata": {},
     "output_type": "execute_result"
    }
   ],
   "source": [
    "# Verifying the changes made\n",
    "\n",
    "clean_archive.loc[45]"
   ]
  },
  {
   "cell_type": "code",
   "execution_count": 107,
   "metadata": {},
   "outputs": [],
   "source": [
    "# Dog stage\n",
    "\n",
    "# Creating a column\n",
    "\n",
    "# Defining a function aimed at creating a column with all stage\n",
    "\n",
    "def Dog_Stage(row):\n",
    "    # Defining a list to store the data\n",
    "    stg_lst = []\n",
    "    # Setting the conditional\n",
    "    if row['doggo'] == 'doggo':\n",
    "        # Adding the entry to the list if it satisfies the condition\n",
    "        stg_lst.append('doggo')\n",
    "    if row['floofer'] == 'floofer':\n",
    "        stg_lst.append('floofer')\n",
    "    if row['pupper'] == 'pupper':\n",
    "        stg_lst.append('pupper')\n",
    "    if row['puppo'] == 'puppo':\n",
    "        stg_lst.append('puppo')\n",
    "    if len(stg_lst) < 1: \n",
    "        row['stage'] = 'None'\n",
    "    else: \n",
    "        row['stage'] = ' and '.join(stg_lst)\n",
    "    return row\n",
    "\n"
   ]
  },
  {
   "cell_type": "code",
   "execution_count": 108,
   "metadata": {},
   "outputs": [],
   "source": [
    "# Applying the \"dog-stage\" function to each record\n",
    "clean_archive = clean_archive.apply(Dog_Stage, axis=1)"
   ]
  },
  {
   "cell_type": "code",
   "execution_count": 109,
   "metadata": {},
   "outputs": [],
   "source": [
    "# Discarding unwanted entries\n",
    "clean_archive = clean_archive.drop(['doggo', 'floofer', 'pupper', 'puppo'], axis=1)"
   ]
  },
  {
   "cell_type": "code",
   "execution_count": 111,
   "metadata": {},
   "outputs": [
    {
     "data": {
      "text/html": [
       "<div>\n",
       "<style scoped>\n",
       "    .dataframe tbody tr th:only-of-type {\n",
       "        vertical-align: middle;\n",
       "    }\n",
       "\n",
       "    .dataframe tbody tr th {\n",
       "        vertical-align: top;\n",
       "    }\n",
       "\n",
       "    .dataframe thead th {\n",
       "        text-align: right;\n",
       "    }\n",
       "</style>\n",
       "<table border=\"1\" class=\"dataframe\">\n",
       "  <thead>\n",
       "    <tr style=\"text-align: right;\">\n",
       "      <th></th>\n",
       "      <th>tweet_id</th>\n",
       "      <th>timestamp</th>\n",
       "      <th>source</th>\n",
       "      <th>text</th>\n",
       "      <th>expanded_urls</th>\n",
       "      <th>rating_numerator</th>\n",
       "      <th>rating_denominator</th>\n",
       "      <th>name</th>\n",
       "      <th>stage</th>\n",
       "    </tr>\n",
       "  </thead>\n",
       "  <tbody>\n",
       "    <tr>\n",
       "      <th>0</th>\n",
       "      <td>892420643555336193</td>\n",
       "      <td>2017-08-01 16:23:56+00:00</td>\n",
       "      <td>\"http://twitter.com/download/iphone\" rel=\"nofo...</td>\n",
       "      <td>This is Phineas. He's a mystical boy. Only eve...</td>\n",
       "      <td>https://twitter.com/dog_rates/status/892420643...</td>\n",
       "      <td>13.0</td>\n",
       "      <td>10</td>\n",
       "      <td>phineas</td>\n",
       "      <td>None</td>\n",
       "    </tr>\n",
       "    <tr>\n",
       "      <th>1</th>\n",
       "      <td>892177421306343426</td>\n",
       "      <td>2017-08-01 00:17:27+00:00</td>\n",
       "      <td>\"http://twitter.com/download/iphone\" rel=\"nofo...</td>\n",
       "      <td>This is Tilly. She's just checking pup on you....</td>\n",
       "      <td>https://twitter.com/dog_rates/status/892177421...</td>\n",
       "      <td>13.0</td>\n",
       "      <td>10</td>\n",
       "      <td>tilly</td>\n",
       "      <td>None</td>\n",
       "    </tr>\n",
       "    <tr>\n",
       "      <th>2</th>\n",
       "      <td>891815181378084864</td>\n",
       "      <td>2017-07-31 00:18:03+00:00</td>\n",
       "      <td>\"http://twitter.com/download/iphone\" rel=\"nofo...</td>\n",
       "      <td>This is Archie. He is a rare Norwegian Pouncin...</td>\n",
       "      <td>https://twitter.com/dog_rates/status/891815181...</td>\n",
       "      <td>12.0</td>\n",
       "      <td>10</td>\n",
       "      <td>archie</td>\n",
       "      <td>None</td>\n",
       "    </tr>\n",
       "    <tr>\n",
       "      <th>3</th>\n",
       "      <td>891689557279858688</td>\n",
       "      <td>2017-07-30 15:58:51+00:00</td>\n",
       "      <td>\"http://twitter.com/download/iphone\" rel=\"nofo...</td>\n",
       "      <td>This is Darla. She commenced a snooze mid meal...</td>\n",
       "      <td>https://twitter.com/dog_rates/status/891689557...</td>\n",
       "      <td>13.0</td>\n",
       "      <td>10</td>\n",
       "      <td>darla</td>\n",
       "      <td>None</td>\n",
       "    </tr>\n",
       "    <tr>\n",
       "      <th>4</th>\n",
       "      <td>891327558926688256</td>\n",
       "      <td>2017-07-29 16:00:24+00:00</td>\n",
       "      <td>\"http://twitter.com/download/iphone\" rel=\"nofo...</td>\n",
       "      <td>This is Franklin. He would like you to stop ca...</td>\n",
       "      <td>https://twitter.com/dog_rates/status/891327558...</td>\n",
       "      <td>12.0</td>\n",
       "      <td>10</td>\n",
       "      <td>franklin</td>\n",
       "      <td>None</td>\n",
       "    </tr>\n",
       "  </tbody>\n",
       "</table>\n",
       "</div>"
      ],
      "text/plain": [
       "             tweet_id                 timestamp  \\\n",
       "0  892420643555336193 2017-08-01 16:23:56+00:00   \n",
       "1  892177421306343426 2017-08-01 00:17:27+00:00   \n",
       "2  891815181378084864 2017-07-31 00:18:03+00:00   \n",
       "3  891689557279858688 2017-07-30 15:58:51+00:00   \n",
       "4  891327558926688256 2017-07-29 16:00:24+00:00   \n",
       "\n",
       "                                              source  \\\n",
       "0  \"http://twitter.com/download/iphone\" rel=\"nofo...   \n",
       "1  \"http://twitter.com/download/iphone\" rel=\"nofo...   \n",
       "2  \"http://twitter.com/download/iphone\" rel=\"nofo...   \n",
       "3  \"http://twitter.com/download/iphone\" rel=\"nofo...   \n",
       "4  \"http://twitter.com/download/iphone\" rel=\"nofo...   \n",
       "\n",
       "                                                text  \\\n",
       "0  This is Phineas. He's a mystical boy. Only eve...   \n",
       "1  This is Tilly. She's just checking pup on you....   \n",
       "2  This is Archie. He is a rare Norwegian Pouncin...   \n",
       "3  This is Darla. She commenced a snooze mid meal...   \n",
       "4  This is Franklin. He would like you to stop ca...   \n",
       "\n",
       "                                       expanded_urls  rating_numerator  \\\n",
       "0  https://twitter.com/dog_rates/status/892420643...              13.0   \n",
       "1  https://twitter.com/dog_rates/status/892177421...              13.0   \n",
       "2  https://twitter.com/dog_rates/status/891815181...              12.0   \n",
       "3  https://twitter.com/dog_rates/status/891689557...              13.0   \n",
       "4  https://twitter.com/dog_rates/status/891327558...              12.0   \n",
       "\n",
       "   rating_denominator      name stage  \n",
       "0                  10   phineas  None  \n",
       "1                  10     tilly  None  \n",
       "2                  10    archie  None  \n",
       "3                  10     darla  None  \n",
       "4                  10  franklin  None  "
      ]
     },
     "execution_count": 111,
     "metadata": {},
     "output_type": "execute_result"
    }
   ],
   "source": [
    "clean_archive.head()"
   ]
  },
  {
   "cell_type": "code",
   "execution_count": 112,
   "metadata": {},
   "outputs": [
    {
     "name": "stdout",
     "output_type": "stream",
     "text": [
      "191 doggo and puppo \n",
      " \n",
      " Here's a puppo participating in the #ScienceMarch. Cleverly disguising her own doggo agenda. 13/10 would keep the planet habitable for https://t.co/cMhq16isel \n",
      " \n",
      "\n",
      "200 doggo and floofer \n",
      " \n",
      " At first I thought this was a shy doggo, but it's actually a Rare Canadian Floofer Owl. Amateurs would confuse the two. 11/10 only send dogs https://t.co/TXdT3tmuYk \n",
      " \n",
      "\n",
      "460 doggo and pupper \n",
      " \n",
      " This is Dido. She's playing the lead role in \"Pupper Stops to Catch Snow Before Resuming Shadow Box with Dried Apple.\" 13/10 (IG: didodoggo) https://t.co/m7isZrOBX7 \n",
      " \n",
      "\n",
      "531 doggo and pupper \n",
      " \n",
      " Here we have Burke (pupper) and Dexter (doggo). Pupper wants to be exactly like doggo. Both 12/10 would pet at same time https://t.co/ANBpEYHaho \n",
      " \n",
      "\n",
      "575 doggo and pupper \n",
      " \n",
      " This is Bones. He's being haunted by another doggo of roughly the same size. 12/10 deep breaths pupper everything's fine https://t.co/55Dqe0SJNj \n",
      " \n",
      "\n",
      "705 doggo and pupper \n",
      " \n",
      " This is Pinot. He's a sophisticated doggo. You can tell by the hat. Also pointier than your average pupper. Still 10/10 would pet cautiously https://t.co/f2wmLZTPHd \n",
      " \n",
      "\n",
      "733 doggo and pupper \n",
      " \n",
      " Pupper butt 1, Doggo 0. Both 12/10 https://t.co/WQvcPEpH2u \n",
      " \n",
      "\n",
      "889 doggo and pupper \n",
      " \n",
      " Meet Maggie &amp; Lila. Maggie is the doggo, Lila is the pupper. They are sisters. Both 12/10 would pet at the same time https://t.co/MYwR4DQKll \n",
      " \n",
      "\n",
      "956 doggo and pupper \n",
      " \n",
      " Please stop sending it pictures that don't even have a doggo or pupper in them. Churlish af. 5/10 neat couch tho https://t.co/u2c9c7qSg8 \n",
      " \n",
      "\n",
      "1063 doggo and pupper \n",
      " \n",
      " This is just downright precious af. 12/10 for both pupper and doggo https://t.co/o5J479bZUC \n",
      " \n",
      "\n",
      "1113 doggo and pupper \n",
      " \n",
      " Like father (doggo), like son (pupper). Both 12/10 https://t.co/pG2inLaOda \n",
      " \n",
      "\n"
     ]
    }
   ],
   "source": [
    "# Inspecting the text when dog has two stages\n",
    "for ind, rw in clean_archive.iterrows():\n",
    "    if ' and ' in rw['stage']:\n",
    "        print (ind,rw['stage'],'\\n','\\n',\n",
    "               rw['text'],'\\n','\\n')"
   ]
  },
  {
   "cell_type": "markdown",
   "metadata": {},
   "source": [
    "191 doggo,puppo correction puppo\n",
    "\n",
    "200 doggo,floofer correction floofer\n",
    "\n",
    "460 doggo,pupper correction pupper\n",
    "\n",
    "*** 531 doggo,pupper correct ***\n",
    "\n",
    "575 doggo,pupper correction doggo\n",
    "\n",
    "705 doggo,pupper correction doggo\n",
    "\n",
    "*** 733 doggo,pupper correct ***\n",
    "\n",
    "*** 889 doggo,pupper correct ***\n",
    "\n",
    "956 doggo,pupper correction NaN\n",
    "\n",
    "*** 1063 doggo,pupper correct ***\n",
    "\n",
    "*** 1113 doggo,pupper correct ***\n"
   ]
  },
  {
   "cell_type": "code",
   "execution_count": 114,
   "metadata": {},
   "outputs": [],
   "source": [
    "# Implementing the corrections manually\n",
    "\n",
    "clean_archive.loc[clean_archive.index == 191, 'stage'] = 'puppo'\n",
    "clean_archive.loc[clean_archive.index == 200, 'stage'] = 'floofer'\n",
    "clean_archive.loc[clean_archive.index == 460, 'stage'] = 'pupper'\n",
    "clean_archive.loc[clean_archive.index == 575, 'stage'] = 'doggo'\n",
    "clean_archive.loc[clean_archive.index == 705, 'stage'] = 'doggo'\n",
    "clean_archive.loc[clean_archive.index == 956, 'stage'] = np.NaN"
   ]
  },
  {
   "cell_type": "code",
   "execution_count": 115,
   "metadata": {},
   "outputs": [],
   "source": [
    "# transform None in NaN\n",
    "clean_archive['stage'] = clean_archive['stage'].where(clean_archive['stage']!=shabd, np.NaN) "
   ]
  },
  {
   "cell_type": "code",
   "execution_count": 116,
   "metadata": {},
   "outputs": [
    {
     "name": "stdout",
     "output_type": "stream",
     "text": [
      "<class 'pandas.core.frame.DataFrame'>\n",
      "Int64Index: 2097 entries, 0 to 2355\n",
      "Data columns (total 9 columns):\n",
      " #   Column              Non-Null Count  Dtype              \n",
      "---  ------              --------------  -----              \n",
      " 0   tweet_id            2097 non-null   object             \n",
      " 1   timestamp           2097 non-null   datetime64[ns, UTC]\n",
      " 2   source              2097 non-null   object             \n",
      " 3   text                2097 non-null   object             \n",
      " 4   expanded_urls       2097 non-null   object             \n",
      " 5   rating_numerator    2097 non-null   float64            \n",
      " 6   rating_denominator  2097 non-null   int64              \n",
      " 7   name                2012 non-null   object             \n",
      " 8   stage               335 non-null    object             \n",
      "dtypes: datetime64[ns, UTC](1), float64(1), int64(1), object(6)\n",
      "memory usage: 243.8+ KB\n"
     ]
    }
   ],
   "source": [
    "# Verifying the changes\n",
    "clean_archive.info()"
   ]
  },
  {
   "cell_type": "markdown",
   "metadata": {},
   "source": [
    "### Cleaning Image dataset"
   ]
  },
  {
   "cell_type": "code",
   "execution_count": 118,
   "metadata": {},
   "outputs": [],
   "source": [
    "# Changing the Data-type of \"tweet_id\" to string\n",
    "\n",
    "clean_img['tweet_id']=clean_img['tweet_id'].astype(str)\n",
    "\n"
   ]
  },
  {
   "cell_type": "code",
   "execution_count": 120,
   "metadata": {},
   "outputs": [
    {
     "name": "stdout",
     "output_type": "stream",
     "text": [
      "<class 'pandas.core.frame.DataFrame'>\n",
      "RangeIndex: 2075 entries, 0 to 2074\n",
      "Data columns (total 12 columns):\n",
      " #   Column    Non-Null Count  Dtype  \n",
      "---  ------    --------------  -----  \n",
      " 0   tweet_id  2075 non-null   object \n",
      " 1   jpg_url   2075 non-null   object \n",
      " 2   img_num   2075 non-null   int64  \n",
      " 3   p1        2075 non-null   object \n",
      " 4   p1_conf   2075 non-null   float64\n",
      " 5   p1_dog    2075 non-null   bool   \n",
      " 6   p2        2075 non-null   object \n",
      " 7   p2_conf   2075 non-null   float64\n",
      " 8   p2_dog    2075 non-null   bool   \n",
      " 9   p3        2075 non-null   object \n",
      " 10  p3_conf   2075 non-null   float64\n",
      " 11  p3_dog    2075 non-null   bool   \n",
      "dtypes: bool(3), float64(3), int64(1), object(5)\n",
      "memory usage: 152.1+ KB\n"
     ]
    }
   ],
   "source": [
    "# Verifying the changes\n",
    "clean_img.info()"
   ]
  },
  {
   "cell_type": "code",
   "execution_count": 121,
   "metadata": {},
   "outputs": [],
   "source": [
    "# Fixing the Inconsistent cases\n",
    "clean_img['p1'] = clean_img['p1'].str.lower()\n",
    "clean_img['p2'] = clean_img['p2'].str.lower()\n",
    "clean_img['p3'] = clean_img['p3'].str.lower()"
   ]
  },
  {
   "cell_type": "code",
   "execution_count": 122,
   "metadata": {},
   "outputs": [
    {
     "data": {
      "text/html": [
       "<div>\n",
       "<style scoped>\n",
       "    .dataframe tbody tr th:only-of-type {\n",
       "        vertical-align: middle;\n",
       "    }\n",
       "\n",
       "    .dataframe tbody tr th {\n",
       "        vertical-align: top;\n",
       "    }\n",
       "\n",
       "    .dataframe thead th {\n",
       "        text-align: right;\n",
       "    }\n",
       "</style>\n",
       "<table border=\"1\" class=\"dataframe\">\n",
       "  <thead>\n",
       "    <tr style=\"text-align: right;\">\n",
       "      <th></th>\n",
       "      <th>tweet_id</th>\n",
       "      <th>jpg_url</th>\n",
       "      <th>img_num</th>\n",
       "      <th>p1</th>\n",
       "      <th>p1_conf</th>\n",
       "      <th>p1_dog</th>\n",
       "      <th>p2</th>\n",
       "      <th>p2_conf</th>\n",
       "      <th>p2_dog</th>\n",
       "      <th>p3</th>\n",
       "      <th>p3_conf</th>\n",
       "      <th>p3_dog</th>\n",
       "    </tr>\n",
       "  </thead>\n",
       "  <tbody>\n",
       "    <tr>\n",
       "      <th>0</th>\n",
       "      <td>666020888022790149</td>\n",
       "      <td>https://pbs.twimg.com/media/CT4udn0WwAA0aMy.jpg</td>\n",
       "      <td>1</td>\n",
       "      <td>welsh_springer_spaniel</td>\n",
       "      <td>0.465074</td>\n",
       "      <td>True</td>\n",
       "      <td>collie</td>\n",
       "      <td>0.156665</td>\n",
       "      <td>True</td>\n",
       "      <td>shetland_sheepdog</td>\n",
       "      <td>0.061428</td>\n",
       "      <td>True</td>\n",
       "    </tr>\n",
       "    <tr>\n",
       "      <th>1</th>\n",
       "      <td>666029285002620928</td>\n",
       "      <td>https://pbs.twimg.com/media/CT42GRgUYAA5iDo.jpg</td>\n",
       "      <td>1</td>\n",
       "      <td>redbone</td>\n",
       "      <td>0.506826</td>\n",
       "      <td>True</td>\n",
       "      <td>miniature_pinscher</td>\n",
       "      <td>0.074192</td>\n",
       "      <td>True</td>\n",
       "      <td>rhodesian_ridgeback</td>\n",
       "      <td>0.072010</td>\n",
       "      <td>True</td>\n",
       "    </tr>\n",
       "    <tr>\n",
       "      <th>2</th>\n",
       "      <td>666033412701032449</td>\n",
       "      <td>https://pbs.twimg.com/media/CT4521TWwAEvMyu.jpg</td>\n",
       "      <td>1</td>\n",
       "      <td>german_shepherd</td>\n",
       "      <td>0.596461</td>\n",
       "      <td>True</td>\n",
       "      <td>malinois</td>\n",
       "      <td>0.138584</td>\n",
       "      <td>True</td>\n",
       "      <td>bloodhound</td>\n",
       "      <td>0.116197</td>\n",
       "      <td>True</td>\n",
       "    </tr>\n",
       "    <tr>\n",
       "      <th>3</th>\n",
       "      <td>666044226329800704</td>\n",
       "      <td>https://pbs.twimg.com/media/CT5Dr8HUEAA-lEu.jpg</td>\n",
       "      <td>1</td>\n",
       "      <td>rhodesian_ridgeback</td>\n",
       "      <td>0.408143</td>\n",
       "      <td>True</td>\n",
       "      <td>redbone</td>\n",
       "      <td>0.360687</td>\n",
       "      <td>True</td>\n",
       "      <td>miniature_pinscher</td>\n",
       "      <td>0.222752</td>\n",
       "      <td>True</td>\n",
       "    </tr>\n",
       "    <tr>\n",
       "      <th>4</th>\n",
       "      <td>666049248165822465</td>\n",
       "      <td>https://pbs.twimg.com/media/CT5IQmsXIAAKY4A.jpg</td>\n",
       "      <td>1</td>\n",
       "      <td>miniature_pinscher</td>\n",
       "      <td>0.560311</td>\n",
       "      <td>True</td>\n",
       "      <td>rottweiler</td>\n",
       "      <td>0.243682</td>\n",
       "      <td>True</td>\n",
       "      <td>doberman</td>\n",
       "      <td>0.154629</td>\n",
       "      <td>True</td>\n",
       "    </tr>\n",
       "  </tbody>\n",
       "</table>\n",
       "</div>"
      ],
      "text/plain": [
       "             tweet_id                                          jpg_url  \\\n",
       "0  666020888022790149  https://pbs.twimg.com/media/CT4udn0WwAA0aMy.jpg   \n",
       "1  666029285002620928  https://pbs.twimg.com/media/CT42GRgUYAA5iDo.jpg   \n",
       "2  666033412701032449  https://pbs.twimg.com/media/CT4521TWwAEvMyu.jpg   \n",
       "3  666044226329800704  https://pbs.twimg.com/media/CT5Dr8HUEAA-lEu.jpg   \n",
       "4  666049248165822465  https://pbs.twimg.com/media/CT5IQmsXIAAKY4A.jpg   \n",
       "\n",
       "   img_num                      p1   p1_conf  p1_dog                  p2  \\\n",
       "0        1  welsh_springer_spaniel  0.465074    True              collie   \n",
       "1        1                 redbone  0.506826    True  miniature_pinscher   \n",
       "2        1         german_shepherd  0.596461    True            malinois   \n",
       "3        1     rhodesian_ridgeback  0.408143    True             redbone   \n",
       "4        1      miniature_pinscher  0.560311    True          rottweiler   \n",
       "\n",
       "    p2_conf  p2_dog                   p3   p3_conf  p3_dog  \n",
       "0  0.156665    True    shetland_sheepdog  0.061428    True  \n",
       "1  0.074192    True  rhodesian_ridgeback  0.072010    True  \n",
       "2  0.138584    True           bloodhound  0.116197    True  \n",
       "3  0.360687    True   miniature_pinscher  0.222752    True  \n",
       "4  0.243682    True             doberman  0.154629    True  "
      ]
     },
     "execution_count": 122,
     "metadata": {},
     "output_type": "execute_result"
    }
   ],
   "source": [
    "# Verifying the changes\n",
    "clean_img.head()"
   ]
  },
  {
   "cell_type": "code",
   "execution_count": 124,
   "metadata": {},
   "outputs": [],
   "source": [
    "# Verifying whether Dog or not\n",
    "\n",
    "# Generating a new columns\n",
    "\n",
    "clean_img['dog']=df_img_2['no_dog'].apply(lambda x: False if x==3 else True )"
   ]
  },
  {
   "cell_type": "code",
   "execution_count": 125,
   "metadata": {},
   "outputs": [
    {
     "name": "stdout",
     "output_type": "stream",
     "text": [
      "0    True\n",
      "1    True\n",
      "2    True\n",
      "3    True\n",
      "4    True\n",
      "Name: dog, dtype: bool False\n"
     ]
    }
   ],
   "source": [
    "# Verifying the changes\n",
    "\n",
    "print(clean_img['dog'].head(),clean_img['dog'][17])"
   ]
  },
  {
   "cell_type": "markdown",
   "metadata": {},
   "source": [
    "### Cleaning our scrapped dataset"
   ]
  },
  {
   "cell_type": "code",
   "execution_count": 127,
   "metadata": {},
   "outputs": [
    {
     "name": "stdout",
     "output_type": "stream",
     "text": [
      "<class 'pandas.core.frame.DataFrame'>\n",
      "RangeIndex: 877 entries, 0 to 876\n",
      "Data columns (total 3 columns):\n",
      " #   Column          Non-Null Count  Dtype \n",
      "---  ------          --------------  ----- \n",
      " 0   id              877 non-null    object\n",
      " 1   favorite_count  877 non-null    int64 \n",
      " 2   retweet_count   877 non-null    int64 \n",
      "dtypes: int64(2), object(1)\n",
      "memory usage: 20.7+ KB\n"
     ]
    }
   ],
   "source": [
    "# Modifying the data type of id to string \n",
    "clean_data['id'] = clean_data['id'].astype(str)\n",
    "\n",
    "# Verifying the Changes\n",
    "clean_data.info()"
   ]
  },
  {
   "cell_type": "markdown",
   "metadata": {},
   "source": [
    "### Merging all 3 dataset"
   ]
  },
  {
   "cell_type": "code",
   "execution_count": 129,
   "metadata": {},
   "outputs": [],
   "source": [
    "# Merge and suppress row without image\n",
    "\n",
    "\n",
    "# Performing inner joins on 'id' to merge the data\n",
    "\n",
    "df_final = clean_img.merge(clean_archive, left_on='tweet_id',right_on='tweet_id',how='inner')\n",
    "df_final = df_final.merge(clean_data,left_on='tweet_id',right_on='id',how='inner')\n",
    "\n",
    "# Dropping unnecessary fields\n",
    "df_final = df_final.drop(['id'], axis=1)"
   ]
  },
  {
   "cell_type": "code",
   "execution_count": 130,
   "metadata": {},
   "outputs": [
    {
     "data": {
      "text/plain": [
       "Index(['tweet_id', 'jpg_url', 'img_num', 'p1', 'p1_conf', 'p1_dog', 'p2',\n",
       "       'p2_conf', 'p2_dog', 'p3', 'p3_conf', 'p3_dog', 'dog', 'timestamp',\n",
       "       'source', 'text', 'expanded_urls', 'rating_numerator',\n",
       "       'rating_denominator', 'name', 'stage', 'favorite_count',\n",
       "       'retweet_count'],\n",
       "      dtype='object')"
      ]
     },
     "execution_count": 130,
     "metadata": {},
     "output_type": "execute_result"
    }
   ],
   "source": [
    "# Verifying the Changes\n",
    "df_final.columns"
   ]
  },
  {
   "cell_type": "code",
   "execution_count": 131,
   "metadata": {},
   "outputs": [],
   "source": [
    "#Storing data\n",
    "\n",
    "df_final.to_csv('twitter_archive_master.csv',index=False)\n"
   ]
  },
  {
   "cell_type": "markdown",
   "metadata": {},
   "source": [
    "\n",
    "\n"
   ]
  },
  {
   "cell_type": "markdown",
   "metadata": {},
   "source": [
    " "
   ]
  },
  {
   "cell_type": "markdown",
   "metadata": {},
   "source": [
    "# Investigating Dataset"
   ]
  },
  {
   "cell_type": "code",
   "execution_count": 132,
   "metadata": {},
   "outputs": [],
   "source": [
    "# Copying the data frame\n",
    "\n",
    "df = df_final.copy()"
   ]
  },
  {
   "cell_type": "code",
   "execution_count": 133,
   "metadata": {},
   "outputs": [
    {
     "data": {
      "text/plain": [
       "count      651.000000\n",
       "mean      4649.364055\n",
       "std       5233.496230\n",
       "min        154.000000\n",
       "25%       2069.000000\n",
       "50%       3192.000000\n",
       "75%       5019.500000\n",
       "max      57054.000000\n",
       "Name: retweet_count, dtype: float64"
      ]
     },
     "execution_count": 133,
     "metadata": {},
     "output_type": "execute_result"
    }
   ],
   "source": [
    "# Getting the Description of retweet variable\n",
    "df['retweet_count'].describe()"
   ]
  },
  {
   "cell_type": "code",
   "execution_count": 145,
   "metadata": {},
   "outputs": [
    {
     "name": "stdout",
     "output_type": "stream",
     "text": [
      "index:  96 \n",
      " \n",
      " tweet_id                                             776088319444877312\n",
      "jpg_url                 https://pbs.twimg.com/media/CsU4NKkW8AUI5eG.jpg\n",
      "img_num                                                               3\n",
      "p1                                                             web_site\n",
      "p1_conf                                                        0.999916\n",
      "p1_dog                                                            False\n",
      "p2                                                                  pug\n",
      "p2_conf                                                     7.65702e-05\n",
      "p2_dog                                                             True\n",
      "p3                                                                 menu\n",
      "p3_conf                                                     2.16468e-06\n",
      "p3_dog                                                            False\n",
      "dog                                                                True\n",
      "timestamp                                     2016-09-14 16:00:49+00:00\n",
      "source                \"http://twitter.com/download/iphone\" rel=\"nofo...\n",
      "text                  I can't tap the screen to make the hearts appe...\n",
      "expanded_urls         https://twitter.com/dog_rates/status/776088319...\n",
      "rating_numerator                                                     10\n",
      "rating_denominator                                                   10\n",
      "name                                                               none\n",
      "stage                                                               NaN\n",
      "favorite_count                                                     1879\n",
      "retweet_count                                                       154\n",
      "Name: 96, dtype: object \n",
      " \n",
      "\n"
     ]
    }
   ],
   "source": [
    "# Looking up the record with the miminum retweet \n",
    "for ind, rw in df.iterrows():\n",
    "    if rw['retweet_count']==154:\n",
    "        print ('index: ',ind,'\\n','\\n',\n",
    "               rw,'\\n','\\n',\n",
    "              )"
   ]
  },
  {
   "cell_type": "code",
   "execution_count": 146,
   "metadata": {},
   "outputs": [
    {
     "name": "stdout",
     "output_type": "stream",
     "text": [
      "index:  257 \n",
      " \n",
      " tweet_id                                             807106840509214720\n",
      "jpg_url               https://pbs.twimg.com/ext_tw_video_thumb/80710...\n",
      "img_num                                                               1\n",
      "p1                                                            chihuahua\n",
      "p1_conf                                                         0.50537\n",
      "p1_dog                                                             True\n",
      "p2                                                           pomeranian\n",
      "p2_conf                                                        0.120358\n",
      "p2_dog                                                             True\n",
      "p3                                                          toy_terrier\n",
      "p3_conf                                                       0.0770081\n",
      "p3_dog                                                             True\n",
      "dog                                                                True\n",
      "timestamp                                     2016-12-09 06:17:20+00:00\n",
      "source                \"http://twitter.com/download/iphone\" rel=\"nofo...\n",
      "text                  This is Stephan. He just wants to help. 13/10 ...\n",
      "expanded_urls         https://twitter.com/dog_rates/status/807106840...\n",
      "rating_numerator                                                     13\n",
      "rating_denominator                                                   10\n",
      "name                                                            stephan\n",
      "stage                                                               NaN\n",
      "favorite_count                                                   121299\n",
      "retweet_count                                                     57054\n",
      "Name: 257, dtype: object \n",
      " \n",
      "\n"
     ]
    }
   ],
   "source": [
    "# Looking up the row with the maximum retweet \n",
    "for ind, rw in df.iterrows():\n",
    "    if rw['retweet_count']==57054:\n",
    "        print ('index: ',ind,'\\n','\\n',\n",
    "               rw,'\\n','\\n',\n",
    "              )"
   ]
  },
  {
   "cell_type": "code",
   "execution_count": 148,
   "metadata": {},
   "outputs": [
    {
     "data": {
      "image/png": "[encoded data removed]",
      "text/plain": [
       "<Figure size 1080x504 with 1 Axes>"
      ]
     },
     "metadata": {},
     "output_type": "display_data"
    }
   ],
   "source": [
    "# Getting the evolution of tweet sharing \n",
    "df_plot=df.copy()\n",
    "\n",
    "# Setting up the date as index\n",
    "df_plot.set_index('timestamp',inplace=True)\n",
    "\n",
    "# Setting up the plot style to 'ggplot'\n",
    "plt.style.use('ggplot')\n",
    "\n",
    "# Plotting the data\n",
    "fig, ax = plt.subplots(figsize=(15,7))\n",
    "ax.bar(df_plot.index, df_plot['retweet_count'],width=5)\n",
    "\n",
    "\n",
    "# Setting up the ticks for each week\n",
    "ax.xaxis.set_major_locator(mdates.MonthLocator())\n",
    "\n",
    "# Setting the format for major ticks\n",
    "ax.xaxis.set_major_formatter(mdates.DateFormatter('%b'))\n",
    "\n",
    "# Setting up the axis and graph titles\n",
    "ax.set_title('Number of retweets through time')\n",
    "ax.set_xlabel('Month')\n",
    "ax.set_ylabel('Retweets')\n",
    "\n",
    "# Generating the figure\n",
    "fig.savefig('retweets_through_time.png')"
   ]
  },
  {
   "cell_type": "markdown",
   "metadata": {},
   "source": [
    "### Visualizing variables"
   ]
  },
  {
   "cell_type": "code",
   "execution_count": 150,
   "metadata": {},
   "outputs": [],
   "source": [
    "# Defining the function to remove the outliers\n",
    "\n",
    "def discard_outliers(dataframe, column):\n",
    "    '''\n",
    "    the function take a dataframe and a column as argument \n",
    "    cut the outlier of the dataframe\n",
    "    and return the new dataframe shape\n",
    "    '''\n",
    "    q3 = dataframe[column].quantile(0.75)\n",
    "    q1 = dataframe[column].quantile(0.25)\n",
    "    IQR = q3 - q1\n",
    "    out_1 = q1 - 1.5*IQR\n",
    "    out_2 = q3 + 1.5*IQR\n",
    "    dataframe = dataframe.loc[((dataframe[column] > out_1) & (dataframe[column] < out_2))]\n",
    "    return dataframe"
   ]
  },
  {
   "cell_type": "code",
   "execution_count": 151,
   "metadata": {},
   "outputs": [],
   "source": [
    "# apply function to our dataframe\n",
    "\n",
    "df = discard_outliers(df,'retweet_count')"
   ]
  },
  {
   "cell_type": "code",
   "execution_count": 152,
   "metadata": {},
   "outputs": [
    {
     "data": {
      "text/plain": [
       "(594, 23)"
      ]
     },
     "execution_count": 152,
     "metadata": {},
     "output_type": "execute_result"
    }
   ],
   "source": [
    "# Verifying the Changes\n",
    "df.shape"
   ]
  },
  {
   "cell_type": "code",
   "execution_count": null,
   "metadata": {},
   "outputs": [],
   "source": []
  }
 ],
 "metadata": {
  "kernelspec": {
   "display_name": "Python 3",
   "language": "python",
   "name": "python3"
  },
  "language_info": {
   "codemirror_mode": {
    "name": "ipython",
    "version": 3
   },
   "file_extension": ".py",
   "mimetype": "text/x-python",
   "name": "python",
   "nbconvert_exporter": "python",
   "pygments_lexer": "ipython3",
   "version": "3.7.6"
  }
 },
 "nbformat": 4,
 "nbformat_minor": 4
}
